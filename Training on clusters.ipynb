{
 "cells": [
  {
   "cell_type": "markdown",
   "metadata": {},
   "source": [
    "# Avoiding catastrophic interference with clustering dataset"
   ]
  },
  {
   "cell_type": "markdown",
   "metadata": {},
   "source": [
    "In this code, the catastrophic interference is overcomed by using several representative points from previous dataset for each class. The representative points are the centers of clusters for images of a specific class. The clustering is performed by K-means method, which seems reasonable method for fully connected networks. For deep convolutional networks more intelligent clustering is needed. It is also reeasonable to introduce clustering as a part of neural network perfoming unsupervised learning.\n",
    "\n",
    "Neural network is consequtively trained on permutted MNIST or Fashion-MNIST data."
   ]
  },
  {
   "cell_type": "code",
   "execution_count": 1,
   "metadata": {
    "colab": {},
    "colab_type": "code",
    "id": "qrfd6FzSLrE2"
   },
   "outputs": [
    {
     "name": "stderr",
     "output_type": "stream",
     "text": [
      "Using TensorFlow backend.\n"
     ]
    }
   ],
   "source": [
    "from keras.datasets import mnist, fashion_mnist\n",
    "from keras.models import Sequential\n",
    "from keras.layers import Dense\n",
    "from keras import utils\n",
    "from keras.optimizers import SGD\n",
    "from keras import regularizers\n",
    "import numpy as np\n",
    "import matplotlib.pyplot as plt\n",
    "#from scipy.misc import toimage\n",
    "%matplotlib inline \n",
    "#import PIL.Image as pil\n",
    "from progressbar import ProgressBar\n",
    "from sklearn.cluster import KMeans"
   ]
  },
  {
   "cell_type": "code",
   "execution_count": 2,
   "metadata": {
    "colab": {},
    "colab_type": "code",
    "id": "IqHMRuH_dk83"
   },
   "outputs": [],
   "source": [
    "# network parameters\n",
    "num_epoch = 20 # number of epochs for training\n",
    "num_neur = 400 # number of neurons in hidden layers\n",
    "nb_classes = 10 # number of classes\n",
    "img_line = 784 # number of input features (pixels)\n",
    "bsize = 32 # batch size\n",
    "nb_clusters = 5 # number of images per class to retain\n",
    "nb_repeat = 1000 # number of times to repeat retained samples"
   ]
  },
  {
   "cell_type": "code",
   "execution_count": 3,
   "metadata": {
    "colab": {},
    "colab_type": "code",
    "id": "E5L3LUIi8PDV"
   },
   "outputs": [],
   "source": [
    "# Load training datasets\n",
    "dataset = 1 # '0' or '1' for MNIST or Fashion-MNIST\n",
    "if dataset == 0:\n",
    "    (X_train, y_train), (X_test, y_test) = mnist.load_data()\n",
    "else:\n",
    "    (X_train, y_train), (X_test, y_test) = fashion_mnist.load_data()"
   ]
  },
  {
   "cell_type": "code",
   "execution_count": 4,
   "metadata": {
    "colab": {},
    "colab_type": "code",
    "id": "rZveVc0FdPX6"
   },
   "outputs": [],
   "source": [
    "# preprocess data\n",
    "X_train = X_train.reshape(60000, img_line)\n",
    "X_train = X_train.astype('float32')\n",
    "X_train /= 255\n",
    "X_test = X_test.reshape(10000, img_line)\n",
    "X_test = X_test.astype('float32')\n",
    "X_test /= 255\n",
    "\n",
    "Y_train = utils.to_categorical(y_train, 10)\n",
    "Y_test = utils.to_categorical(y_test, 10)\n",
    "\n",
    "# build neural network\n",
    "model = Sequential()\n",
    "l2 = 1e-4 # L2 regularization\n",
    "model.add(Dense(num_neur, input_dim=img_line, activation=\"relu\",kernel_regularizer=regularizers.l2(l2)))\n",
    "model.add(Dense(num_neur, activation=\"relu\",kernel_regularizer=regularizers.l2(l2)))\n",
    "model.add(Dense(nb_classes, activation=\"softmax\",kernel_regularizer=regularizers.l2(l2)))\n",
    "\n",
    "model.compile(loss=\"categorical_crossentropy\", optimizer=SGD(lr=0.001), metrics=[\"accuracy\"])"
   ]
  },
  {
   "cell_type": "markdown",
   "metadata": {},
   "source": [
    "## Training network  on dataset A"
   ]
  },
  {
   "cell_type": "code",
   "execution_count": 5,
   "metadata": {
    "colab": {
     "base_uri": "https://localhost:8080/",
     "height": 297
    },
    "colab_type": "code",
    "id": "ezoKvziJdUB4",
    "outputId": "4db84ede-5a94-4eb2-fa5f-212f25ad9165"
   },
   "outputs": [
    {
     "data": {
      "image/png": "[encoded data removed]",
      "text/plain": [
       "<Figure size 432x288 with 1 Axes>"
      ]
     },
     "metadata": {},
     "output_type": "display_data"
    }
   ],
   "source": [
    "# construct dataset A\n",
    "order_all = np.random.permutation(img_line) # permutation order for dataset A\n",
    "tr_a = X_train[:,order_all] # training dataset A\n",
    "ts_a = X_test[:,order_all] # testing dataset A\n",
    "\n",
    "score_a = np.zeros((num_epoch*3,2))\n",
    "# we don't adjust training parameters, so we test the accuracy on a test data\n",
    "history = model.fit(tr_a, Y_train, batch_size=bsize, epochs=num_epoch, validation_data=(ts_a,Y_test), verbose=0)\n",
    "score_a[:num_epoch,0] = range(num_epoch)\n",
    "score_a[:num_epoch,1] = history.history['val_acc']\n",
    "\n",
    "plt.plot(score_a[:num_epoch,0],score_a[:num_epoch,1])\n",
    "plt.xlabel('Epocs')\n",
    "plt.ylabel('Accuracy')\n",
    "plt.show()"
   ]
  },
  {
   "cell_type": "markdown",
   "metadata": {},
   "source": [
    "## Training network on dataset B with clusters' centers from dataset A"
   ]
  },
  {
   "cell_type": "markdown",
   "metadata": {},
   "source": [
    "Pick clusters' centers from dataset A"
   ]
  },
  {
   "cell_type": "code",
   "execution_count": 6,
   "metadata": {},
   "outputs": [],
   "source": [
    "tr_a_centers = np.empty([0,img_line]) # array to store clusters' centers\n",
    "for c in range(nb_classes):\n",
    "    digit = tr_a[y_train==c,:]# choose data of certain class\n",
    "    kmeans = KMeans(n_clusters=nb_clusters, random_state=0) \n",
    "    clusters = kmeans.fit_predict(digit) # perform clustering for each class\n",
    "    tr_a_centers = np.concatenate((tr_a_centers, kmeans.cluster_centers_), axis=0)\n",
    "    \n",
    "y_a_centers = model.predict(tr_a_centers) # find soft targets for the data\n",
    "tr_a_centers = np.tile(tr_a_centers,(nb_repeat,1))# increase the number of dataset A samples \n",
    "y_a_centers = np.tile(y_a_centers,(nb_repeat,1))"
   ]
  },
  {
   "cell_type": "markdown",
   "metadata": {},
   "source": [
    "Train network on a mix of datasets A and B"
   ]
  },
  {
   "cell_type": "code",
   "execution_count": 7,
   "metadata": {
    "colab": {
     "base_uri": "https://localhost:8080/",
     "height": 314
    },
    "colab_type": "code",
    "id": "pBrgbxds7cSa",
    "outputId": "b06d9ac3-83b5-41ce-c271-ee7fce0d5a00"
   },
   "outputs": [
    {
     "name": "stderr",
     "output_type": "stream",
     "text": [
      "100% |########################################################################|\n"
     ]
    },
    {
     "data": {
      "image/png": "[encoded data removed]",
      "text/plain": [
       "<Figure size 432x288 with 1 Axes>"
      ]
     },
     "metadata": {},
     "output_type": "display_data"
    }
   ],
   "source": [
    "# construct dataset B\n",
    "order_all = np.random.permutation(img_line)\n",
    "tr_b = X_train[:,order_all]\n",
    "ts_b = X_test[:,order_all]\n",
    "\n",
    "tr_ab = np.concatenate((tr_b, tr_a_centers), axis=0) # add samples from dataset A to the dataset B\n",
    "Y_ab = np.concatenate((Y_train, y_a_centers), axis=0) \n",
    "\n",
    "# shuffle training samples for proper validation set\n",
    "order_all = np.random.permutation(tr_ab.shape[0])\n",
    "tr_ab = tr_ab[order_all,:]\n",
    "Y_ab = Y_ab[order_all,:]\n",
    "\n",
    "# train on B, test on A and B\n",
    "score_b = np.zeros((num_epoch*2,2))\n",
    "pbar = ProgressBar(maxval=num_epoch).start()\n",
    "for epoch in range(num_epoch):\n",
    "    model.fit(tr_ab, Y_ab, batch_size=bsize, epochs=1, verbose=0)\n",
    "    score = model.evaluate(ts_a, Y_test, verbose=0)\n",
    "    score_a[epoch+num_epoch,:] = [epoch+num_epoch,score[1]]\n",
    "    score = model.evaluate(ts_b, Y_test, verbose=0)\n",
    "    score_b[epoch,:] = [epoch+num_epoch,score[1]]\n",
    "    pbar.update(epoch+1)\n",
    "pbar.finish()\n",
    "\n",
    "plt.plot(score_a[:num_epoch*2,0],score_a[:num_epoch*2,1],label='A')\n",
    "plt.plot(score_b[:num_epoch,0],score_b[:num_epoch,1],label='B')\n",
    "plt.xlabel('Epochs')\n",
    "plt.ylabel('Accuracy')\n",
    "plt.legend()\n",
    "plt.show()"
   ]
  },
  {
   "cell_type": "markdown",
   "metadata": {},
   "source": [
    "## Training network on dataset C with episodes from datasets A and B"
   ]
  },
  {
   "cell_type": "markdown",
   "metadata": {},
   "source": [
    "Pick clusters' centers from dataset B"
   ]
  },
  {
   "cell_type": "code",
   "execution_count": 8,
   "metadata": {},
   "outputs": [],
   "source": [
    "tr_b_centers = np.empty([0,img_line]) # array to store clusters' centers\n",
    "for c in range(nb_classes):\n",
    "    digit = tr_b[y_train==c,:] # choose data of certain class\n",
    "    kmeans = KMeans(n_clusters=nb_clusters, random_state=0) \n",
    "    clusters = kmeans.fit_predict(digit) # perform clustering for each class\n",
    "    tr_b_centers = np.concatenate((tr_b_centers, kmeans.cluster_centers_), axis=0)\n",
    "    \n",
    "y_b_centers = model.predict(tr_b_centers) # find soft targets for the data\n",
    "tr_b_centers = np.tile(tr_b_centers,(nb_repeat,1))# increase the number of dataset A samples \n",
    "y_b_centers = np.tile(y_b_centers,(nb_repeat,1))"
   ]
  },
  {
   "cell_type": "code",
   "execution_count": 9,
   "metadata": {
    "colab": {
     "base_uri": "https://localhost:8080/",
     "height": 331
    },
    "colab_type": "code",
    "id": "9ZF-RkFY7vDS",
    "outputId": "cd8585f5-ee9e-4d80-8c42-74647e5372e1"
   },
   "outputs": [
    {
     "name": "stderr",
     "output_type": "stream",
     "text": [
      "100% |########################################################################|\n"
     ]
    },
    {
     "data": {
      "image/png": "[encoded data removed]",
      "text/plain": [
       "<Figure size 432x288 with 1 Axes>"
      ]
     },
     "metadata": {},
     "output_type": "display_data"
    }
   ],
   "source": [
    "# create dataset C\n",
    "order_all = np.random.permutation(img_line)\n",
    "tr_c = X_train[:,order_all]\n",
    "ts_c = X_test[:,order_all]\n",
    "\n",
    "# add A and B data to the training data C\n",
    "tr_abc = np.concatenate((tr_c, tr_a_centers, tr_b_centers), axis=0) \n",
    "Y_abc = np.concatenate((Y_train, y_a_centers, y_b_centers), axis=0)\n",
    "# permute training samples for proper validation set\n",
    "order_all = np.random.permutation(tr_abc.shape[0])\n",
    "tr_abc = tr_abc[order_all,:]\n",
    "Y_abc = Y_abc[order_all,:]\n",
    "\n",
    "# train on C, test on A, B, C\n",
    "score_c = np.zeros((num_epoch,2))\n",
    "pbar = ProgressBar(maxval=num_epoch).start()\n",
    "for epoch in range(num_epoch):\n",
    "    model.fit(tr_abc, Y_abc, batch_size=bsize, epochs=1, verbose=0)\n",
    "    score = model.evaluate(ts_a, Y_test, verbose=0)\n",
    "    score_a[epoch+num_epoch*2,:] = [epoch+num_epoch*2,score[1]]\n",
    "    score = model.evaluate(ts_b, Y_test, verbose=0)\n",
    "    score_b[epoch+num_epoch,:] = [epoch+num_epoch*2,score[1]]\n",
    "    score = model.evaluate(ts_c, Y_test, verbose=0)\n",
    "    score_c[epoch,:] = [epoch+num_epoch*2,score[1]]\n",
    "    pbar.update(epoch+1)\n",
    "pbar.finish()\n",
    "\n",
    "plt.plot(score_a[:,0],score_a[:,1],label='A')\n",
    "plt.plot(score_b[:,0],score_b[:,1],label='B')\n",
    "plt.plot(score_c[:,0],score_c[:,1],label='C')\n",
    "plt.xlabel('Epochs')\n",
    "plt.ylabel('Accuracy')\n",
    "plt.legend()\n",
    "plt.show()"
   ]
  },
  {
   "cell_type": "code",
   "execution_count": 10,
   "metadata": {},
   "outputs": [],
   "source": [
    "# save training history for further processing\n",
    "#np.savez('Few_clusters_0',score_a=score_a,score_b=score_b,score_c=score_c)"
   ]
  },
  {
   "cell_type": "code",
   "execution_count": null,
   "metadata": {},
   "outputs": [],
   "source": []
  }
 ],
 "metadata": {
  "accelerator": "GPU",
  "colab": {
   "collapsed_sections": [],
   "name": "ABC_Mnist_13.ipynb",
   "provenance": [],
   "version": "0.3.2"
  },
  "kernelspec": {
   "display_name": "Python 3",
   "language": "python",
   "name": "python3"
  },
  "language_info": {
   "codemirror_mode": {
    "name": "ipython",
    "version": 3
   },
   "file_extension": ".py",
   "mimetype": "text/x-python",
   "name": "python",
   "nbconvert_exporter": "python",
   "pygments_lexer": "ipython3",
   "version": "3.5.5"
  }
 },
 "nbformat": 4,
 "nbformat_minor": 1
}
