{
 "cells": [
  {
   "cell_type": "markdown",
   "metadata": {},
   "source": [
    "# Consecutive learning of conditional variational autoencoder"
   ]
  },
  {
   "cell_type": "markdown",
   "metadata": {},
   "source": [
    "A neural network is consecutively trained on three datasets. The goal is to prevent catastrophic interference during consecutive training. This goal is achieved by using the rehearsal method with artificial data obtained from a generative network. In this notebook, the generative network is based on conditional variational autoencoder (CVAE). The networks are trained on permuted MNIST or Fashion-MNIST data.\n",
    "\n",
    "In **version 2.2**, the classificator and vae of the whole cvae network are trained separately. Soft (distilled) targets are used for retraining the classifier."
   ]
  },
  {
   "cell_type": "code",
   "execution_count": 4,
   "metadata": {},
   "outputs": [],
   "source": [
    "import os\n",
    "# Disable GPU in a case of kernel freezing\n",
    "#os.environ[\"CUDA_VISIBLE_DEVICES\"]=\"-1\""
   ]
  },
  {
   "cell_type": "code",
   "execution_count": 5,
   "metadata": {},
   "outputs": [],
   "source": [
    "from keras.layers import Lambda, Input, Dense, concatenate\n",
    "from keras.models import Model\n",
    "from keras.optimizers import SGD\n",
    "from keras.datasets import mnist, fashion_mnist\n",
    "from keras.losses import mse, binary_crossentropy, categorical_crossentropy\n",
    "from keras.metrics import categorical_accuracy\n",
    "from keras.utils import plot_model\n",
    "from keras import backend as K\n",
    "from keras.utils import to_categorical\n",
    "from keras import regularizers\n",
    "\n",
    "import numpy as np\n",
    "import matplotlib.pyplot as plt\n",
    "from progressbar import ProgressBar"
   ]
  },
  {
   "cell_type": "code",
   "execution_count": 6,
   "metadata": {},
   "outputs": [],
   "source": [
    "# Load training datasets\n",
    "dataset = 1 # '0' or '1' for MNIST or Fashion-MNIST\n",
    "if dataset == 0:\n",
    "    (x_train, y_train), (x_test, y_test) = mnist.load_data()\n",
    "else:\n",
    "    (x_train, y_train), (x_test, y_test) = fashion_mnist.load_data()\n",
    "\n",
    "# preprocess data\n",
    "image_size = x_train.shape[1]\n",
    "original_dim = image_size * image_size\n",
    "x_train = np.reshape(x_train, [-1, original_dim])\n",
    "x_test = np.reshape(x_test, [-1, original_dim])\n",
    "x_train = x_train.astype('float32') / 255\n",
    "x_test = x_test.astype('float32') / 255\n",
    "\n",
    "Y_train = to_categorical(y_train, 10)\n",
    "Y_test = to_categorical(y_test, 10)"
   ]
  },
  {
   "cell_type": "code",
   "execution_count": 7,
   "metadata": {},
   "outputs": [],
   "source": [
    "# network parameters\n",
    "input_shape = (original_dim, )\n",
    "intermediate_dim = 400 # number of neurons in hidden layer\n",
    "batch_size = 32\n",
    "latent_dim = 100 # dimensions of latent vector\n",
    "epochs = 20\n",
    "nb_classes = 10\n",
    "nb_samples = 50000 # number of generated artificial samples (dreams)\n",
    "l2 = 1e-4 # L2 regularization"
   ]
  },
  {
   "cell_type": "markdown",
   "metadata": {},
   "source": [
    "Define some functions"
   ]
  },
  {
   "cell_type": "code",
   "execution_count": 8,
   "metadata": {},
   "outputs": [],
   "source": [
    "# reparameterization trick\n",
    "# instead of sampling from Q(z|X), sample epsilon = N(0,I)\n",
    "# z = z_mean + sqrt(var) * epsilon\n",
    "def sampling(args):\n",
    "    \"\"\"Reparameterization trick by sampling from an isotropic unit Gaussian.\n",
    "    # Arguments\n",
    "        args (tensor): mean and log of variance of Q(z|X)\n",
    "    # Returns\n",
    "        z (tensor): sampled latent vector\n",
    "    \"\"\"\n",
    "\n",
    "    z_mean, z_log_var = args\n",
    "    batch = K.shape(z_mean)[0]\n",
    "    dim = K.int_shape(z_mean)[1]\n",
    "    # by default, random_normal has mean = 0 and std = 1.0\n",
    "    epsilon = K.random_normal(shape=(batch, dim))\n",
    "    return z_mean + K.exp(0.5 * z_log_var) * epsilon"
   ]
  },
  {
   "cell_type": "markdown",
   "metadata": {},
   "source": [
    "Construct CVAE"
   ]
  },
  {
   "cell_type": "code",
   "execution_count": 9,
   "metadata": {},
   "outputs": [],
   "source": [
    "# CVAE model = encoder + decoder + classifier\n",
    "\n",
    "# build encoder model\n",
    "inputs = Input(shape=input_shape, name='encoder_input')\n",
    "x = Dense(intermediate_dim, activation='relu',kernel_regularizer=regularizers.l2(l2))(inputs)\n",
    "x = Dense(intermediate_dim, activation='relu',kernel_regularizer=regularizers.l2(l2))(x)\n",
    "z_mean = Dense(latent_dim, name='z_mean')(x)\n",
    "z_log_var = Dense(latent_dim, name='z_log_var')(x)\n",
    "\n",
    "# use reparameterization trick to push the sampling out as input\n",
    "# note that \"output_shape\" isn't necessary with the TensorFlow backend\n",
    "z = Lambda(sampling, output_shape=(latent_dim,), name='z')([z_mean, z_log_var])\n",
    "\n",
    "# instantiate encoder model\n",
    "encoder = Model(inputs, [z_mean, z_log_var, z], name='encoder')\n",
    "\n",
    "#build classifier model\n",
    "classifier_outputs = Dense(nb_classes, activation='softmax',kernel_regularizer=regularizers.l2(l2))(x)\n",
    "\n",
    "# instantiate classifier model\n",
    "digit_classifier = Model(inputs, classifier_outputs, name='classifier')\n",
    "\n",
    "# build decoder model\n",
    "latent_inputs = Input(shape=(latent_dim+nb_classes,), name='conditional_z_sampling')\n",
    "x = Dense(intermediate_dim, activation='relu')(latent_inputs)\n",
    "x = Dense(intermediate_dim, activation='relu')(x)\n",
    "outputs = Dense(original_dim, activation='sigmoid')(x)\n",
    "\n",
    "# instantiate decoder model\n",
    "decoder = Model(latent_inputs, outputs, name='decoder')\n",
    "\n",
    "# instantiate VAE model\n",
    "z_cond = concatenate(inputs=[encoder(inputs)[2], digit_classifier(inputs)])\n",
    "outputs = decoder(z_cond)\n",
    "vae = Model(inputs, outputs, name='cvae')"
   ]
  },
  {
   "cell_type": "code",
   "execution_count": 10,
   "metadata": {},
   "outputs": [],
   "source": [
    "# Define vae loss function\n",
    "reconstruction_loss = binary_crossentropy(inputs,outputs)\n",
    "reconstruction_loss *= original_dim\n",
    "kl_loss = 1 + z_log_var - K.square(z_mean) - K.exp(z_log_var)\n",
    "kl_loss = K.sum(kl_loss, axis=-1)\n",
    "kl_loss *= -0.5\n",
    "vae_loss = K.mean(reconstruction_loss + kl_loss)\n",
    "\n",
    "vae.add_loss(vae_loss)\n",
    "vae.compile(optimizer='adam')\n",
    "\n",
    "digit_classifier.compile(loss=\"categorical_crossentropy\", optimizer=SGD(lr=0.001), metrics=[\"accuracy\"])"
   ]
  },
  {
   "cell_type": "markdown",
   "metadata": {},
   "source": [
    "## Training network on dataset A"
   ]
  },
  {
   "cell_type": "code",
   "execution_count": 11,
   "metadata": {},
   "outputs": [],
   "source": [
    "# form dataset A\n",
    "order_all = np.random.permutation(original_dim)\n",
    "tr_a = x_train[:,order_all]\n",
    "ts_a = x_test[:,order_all]"
   ]
  },
  {
   "cell_type": "markdown",
   "metadata": {},
   "source": [
    "Stage 1: Train classifier"
   ]
  },
  {
   "cell_type": "code",
   "execution_count": 12,
   "metadata": {},
   "outputs": [],
   "source": [
    "score_a = np.zeros((epochs,2))\n",
    "history = digit_classifier.fit(tr_a, Y_train, batch_size=batch_size, epochs=epochs, validation_data=(ts_a,Y_test), verbose=0)\n",
    "score_a[:,0] = range(epochs)\n",
    "score_a[:,1] = history.history['val_acc']"
   ]
  },
  {
   "cell_type": "code",
   "execution_count": 13,
   "metadata": {},
   "outputs": [
    {
     "data": {
      "image/png": "[encoded data removed]",
      "text/plain": [
       "<Figure size 432x288 with 1 Axes>"
      ]
     },
     "metadata": {},
     "output_type": "display_data"
    }
   ],
   "source": [
    "# Plot training process\n",
    "plt.plot(score_a[:,0],score_a[:,1])\n",
    "plt.xlabel('Epoch')\n",
    "plt.ylabel('Classification accuracy')\n",
    "plt.show()"
   ]
  },
  {
   "cell_type": "code",
   "execution_count": 14,
   "metadata": {},
   "outputs": [],
   "source": [
    "# Freeze classifier weights\n",
    "for layer in digit_classifier.layers:\n",
    "    layer.trainable = False\n",
    "    \n",
    "# recomplile VAE to take into account frozen weights\n",
    "vae.compile(optimizer='adam')"
   ]
  },
  {
   "cell_type": "markdown",
   "metadata": {},
   "source": [
    "Stage 2: Train the rest of VAE"
   ]
  },
  {
   "cell_type": "code",
   "execution_count": 15,
   "metadata": {},
   "outputs": [
    {
     "name": "stdout",
     "output_type": "stream",
     "text": [
      "Train on 60000 samples, validate on 10000 samples\n",
      "Epoch 1/20\n",
      "60000/60000 [==============================] - 25s 424us/step - loss: 273.7577 - val_loss: 259.6744\n",
      "Epoch 2/20\n",
      "60000/60000 [==============================] - 24s 407us/step - loss: 254.2642 - val_loss: 253.4691\n",
      "Epoch 3/20\n",
      "60000/60000 [==============================] - 24s 405us/step - loss: 249.8283 - val_loss: 249.9720\n",
      "Epoch 4/20\n",
      "60000/60000 [==============================] - 24s 406us/step - loss: 247.5462 - val_loss: 248.5946\n",
      "Epoch 5/20\n",
      "60000/60000 [==============================] - 24s 406us/step - loss: 246.0586 - val_loss: 247.2415\n",
      "Epoch 6/20\n",
      "60000/60000 [==============================] - 24s 407us/step - loss: 244.9188 - val_loss: 246.2527\n",
      "Epoch 7/20\n",
      "60000/60000 [==============================] - 24s 407us/step - loss: 244.1388 - val_loss: 245.6546\n",
      "Epoch 8/20\n",
      "60000/60000 [==============================] - 25s 410us/step - loss: 243.3589 - val_loss: 245.5731\n",
      "Epoch 9/20\n",
      "60000/60000 [==============================] - 24s 407us/step - loss: 242.7685 - val_loss: 244.9471\n",
      "Epoch 10/20\n",
      "60000/60000 [==============================] - 24s 407us/step - loss: 242.2510 - val_loss: 244.6972\n",
      "Epoch 11/20\n",
      "60000/60000 [==============================] - 24s 407us/step - loss: 241.9131 - val_loss: 243.5461\n",
      "Epoch 12/20\n",
      "60000/60000 [==============================] - 24s 406us/step - loss: 241.4887 - val_loss: 243.4974\n",
      "Epoch 13/20\n",
      "60000/60000 [==============================] - 25s 418us/step - loss: 241.2729 - val_loss: 243.9229\n",
      "Epoch 14/20\n",
      "60000/60000 [==============================] - 24s 407us/step - loss: 241.0145 - val_loss: 243.4495\n",
      "Epoch 15/20\n",
      "60000/60000 [==============================] - 24s 407us/step - loss: 240.7316 - val_loss: 242.6776\n",
      "Epoch 16/20\n",
      "60000/60000 [==============================] - 24s 408us/step - loss: 240.5419 - val_loss: 243.4075\n",
      "Epoch 17/20\n",
      "60000/60000 [==============================] - 24s 407us/step - loss: 240.3313 - val_loss: 242.3932\n",
      "Epoch 18/20\n",
      "60000/60000 [==============================] - 24s 407us/step - loss: 240.1562 - val_loss: 241.9563\n",
      "Epoch 19/20\n",
      "60000/60000 [==============================] - 24s 408us/step - loss: 239.9875 - val_loss: 242.3415\n",
      "Epoch 20/20\n",
      "60000/60000 [==============================] - 27s 458us/step - loss: 239.8366 - val_loss: 242.1145\n"
     ]
    }
   ],
   "source": [
    "history = vae.fit(tr_a, batch_size=batch_size, epochs=epochs, validation_data=(ts_a,None),verbose=1)"
   ]
  },
  {
   "cell_type": "code",
   "execution_count": 16,
   "metadata": {},
   "outputs": [
    {
     "data": {
      "image/png": "[encoded data removed]",
      "text/plain": [
       "<Figure size 432x288 with 1 Axes>"
      ]
     },
     "metadata": {},
     "output_type": "display_data"
    }
   ],
   "source": [
    "plt.plot(history.history['loss'], label='training loss')\n",
    "plt.plot(history.history['val_loss'], label='validation loss')\n",
    "plt.xlabel('Epochs')\n",
    "plt.ylabel('VAE loss')\n",
    "plt.legend()\n",
    "plt.show()"
   ]
  },
  {
   "cell_type": "code",
   "execution_count": 17,
   "metadata": {},
   "outputs": [],
   "source": [
    "# Unfreeze classifier weights\n",
    "for layer in digit_classifier.layers:\n",
    "    layer.trainable = True"
   ]
  },
  {
   "cell_type": "markdown",
   "metadata": {},
   "source": [
    "## Training network on dataset B with generated data A"
   ]
  },
  {
   "cell_type": "markdown",
   "metadata": {},
   "source": [
    "Generate artificial samples of the same amount as in initial training set"
   ]
  },
  {
   "cell_type": "code",
   "execution_count": 18,
   "metadata": {},
   "outputs": [],
   "source": [
    "dreams_a = np.empty(shape=[0, original_dim]) # array to store samples\n",
    "Y_gen = np.empty(shape=[0, nb_classes]) # soft target vectors\n",
    "for _ in range(nb_samples // batch_size): # generate dreams in batches\n",
    "    y_batch = np.random.randint(nb_classes, size=batch_size) # use random indices\n",
    "    y_batch = to_categorical(y_batch, nb_classes) # generate random target vectors\n",
    "    z_sample = np.random.randn(batch_size,latent_dim) # sampling latent vector\n",
    "    z_cond = np.concatenate((z_sample,y_batch), axis=1)\n",
    "    dream_batch = decoder.predict(z_cond) # generate corresponding dreams\n",
    "    y_batch = digit_classifier.predict(dream_batch) # generate soft targets\n",
    "    Y_gen = np.append(Y_gen, y_batch, axis=0)\n",
    "    dreams_a = np.append(dreams_a, dream_batch, axis=0) # add dreams to the collection"
   ]
  },
  {
   "cell_type": "code",
   "execution_count": 19,
   "metadata": {},
   "outputs": [],
   "source": [
    "# Creating dataset B\n",
    "order_all = np.random.permutation(original_dim)\n",
    "tr_b = x_train[:,order_all]\n",
    "ts_b = x_test[:,order_all]\n",
    "\n",
    "# Form joint dataset\n",
    "tr_ab = np.concatenate((tr_b, dreams_a), axis=0) # add generated dataset to the training data B\n",
    "Y_ab = np.concatenate((Y_train, Y_gen), axis=0) # join labels\n",
    "# shuffle training samples\n",
    "order_all = np.random.permutation(tr_ab.shape[0])\n",
    "tr_ab = tr_ab[order_all,:]\n",
    "Y_ab = Y_ab[order_all,:]"
   ]
  },
  {
   "cell_type": "markdown",
   "metadata": {},
   "source": [
    "Train classifier"
   ]
  },
  {
   "cell_type": "code",
   "execution_count": 20,
   "metadata": {},
   "outputs": [
    {
     "name": "stderr",
     "output_type": "stream",
     "text": [
      "100% |########################################################################|\n"
     ]
    },
    {
     "data": {
      "image/png": "[encoded data removed]",
      "text/plain": [
       "<Figure size 432x288 with 1 Axes>"
      ]
     },
     "metadata": {},
     "output_type": "display_data"
    }
   ],
   "source": [
    "score_ab = np.zeros((epochs,3))\n",
    "pbar = ProgressBar(maxval=epochs).start()\n",
    "for epoch in range(epochs):\n",
    "    digit_classifier.fit(tr_ab, Y_ab, batch_size=batch_size, epochs=1, verbose=0)\n",
    "    score1 = digit_classifier.evaluate(ts_a, Y_test, verbose=0)\n",
    "    score2 = digit_classifier.evaluate(ts_b, Y_test, verbose=0)\n",
    "    score_ab[epoch,:] = [epoch+epochs,score1[1],score2[1]]\n",
    "    pbar.update(epoch+1)\n",
    "pbar.finish()\n",
    "\n",
    "# plot the accuracy of training\n",
    "plt.plot(np.hstack((score_a[:,0],score_ab[:,0])),np.hstack((score_a[:,1],score_ab[:,1])),label='data A')\n",
    "plt.plot(score_ab[:,0],score_ab[:,2],label='data B')\n",
    "plt.xlabel('Epoch')\n",
    "plt.ylabel('Classification accuracy')\n",
    "plt.legend()\n",
    "plt.show()"
   ]
  },
  {
   "cell_type": "code",
   "execution_count": 21,
   "metadata": {},
   "outputs": [
    {
     "data": {
      "text/plain": [
       "[0.5695759418010712, 0.8354]"
      ]
     },
     "execution_count": 21,
     "metadata": {},
     "output_type": "execute_result"
    }
   ],
   "source": [
    "# final accuracy\n",
    "digit_classifier.evaluate(ts_a, Y_test, verbose=0)"
   ]
  },
  {
   "cell_type": "code",
   "execution_count": 22,
   "metadata": {},
   "outputs": [],
   "source": [
    "# Freeze classifier weights\n",
    "for layer in digit_classifier.layers:\n",
    "    layer.trainable = False"
   ]
  },
  {
   "cell_type": "markdown",
   "metadata": {},
   "source": [
    "Train VAE"
   ]
  },
  {
   "cell_type": "code",
   "execution_count": 23,
   "metadata": {},
   "outputs": [
    {
     "name": "stdout",
     "output_type": "stream",
     "text": [
      "Train on 109984 samples, validate on 20000 samples\n",
      "Epoch 1/20\n",
      "109984/109984 [==============================] - 45s 412us/step - loss: 271.2568 - val_loss: 256.6536\n",
      "Epoch 2/20\n",
      "109984/109984 [==============================] - 46s 422us/step - loss: 262.2583 - val_loss: 255.6206\n",
      "Epoch 3/20\n",
      "109984/109984 [==============================] - 47s 429us/step - loss: 260.2954 - val_loss: 254.1269\n",
      "Epoch 4/20\n",
      "109984/109984 [==============================] - 50s 452us/step - loss: 259.2045 - val_loss: 253.1721\n",
      "Epoch 5/20\n",
      "109984/109984 [==============================] - 46s 420us/step - loss: 258.4545 - val_loss: 252.2034\n",
      "Epoch 6/20\n",
      "109984/109984 [==============================] - 49s 441us/step - loss: 257.9329 - val_loss: 252.2363\n",
      "Epoch 7/20\n",
      "109984/109984 [==============================] - 47s 429us/step - loss: 257.5163 - val_loss: 252.6015\n",
      "Epoch 8/20\n",
      "109984/109984 [==============================] - 47s 424us/step - loss: 257.1108 - val_loss: 251.5239\n",
      "Epoch 9/20\n",
      "109984/109984 [==============================] - 48s 439us/step - loss: 256.9527 - val_loss: 251.4313\n",
      "Epoch 10/20\n",
      "109984/109984 [==============================] - 50s 458us/step - loss: 256.8557 - val_loss: 252.2256\n",
      "Epoch 11/20\n",
      "109984/109984 [==============================] - 51s 459us/step - loss: 256.4775 - val_loss: 252.1413\n",
      "Epoch 12/20\n",
      "109984/109984 [==============================] - 50s 458us/step - loss: 256.8590 - val_loss: 251.5004\n",
      "Epoch 13/20\n",
      "109984/109984 [==============================] - 50s 458us/step - loss: 256.0564 - val_loss: 251.6337\n",
      "Epoch 14/20\n",
      "109984/109984 [==============================] - 51s 462us/step - loss: 256.2083 - val_loss: 251.0015\n",
      "Epoch 15/20\n",
      "109984/109984 [==============================] - 51s 465us/step - loss: 255.8099 - val_loss: 251.0188\n",
      "Epoch 16/20\n",
      "109984/109984 [==============================] - 47s 429us/step - loss: 256.0334 - val_loss: 250.7643\n",
      "Epoch 17/20\n",
      "109984/109984 [==============================] - 46s 414us/step - loss: 255.6616 - val_loss: 252.2211\n",
      "Epoch 18/20\n",
      "109984/109984 [==============================] - 45s 408us/step - loss: 255.7977 - val_loss: 250.8932\n",
      "Epoch 19/20\n",
      "109984/109984 [==============================] - 45s 411us/step - loss: 255.3089 - val_loss: 251.6905\n",
      "Epoch 20/20\n",
      "109984/109984 [==============================] - 46s 415us/step - loss: 255.4533 - val_loss: 251.4021\n"
     ]
    }
   ],
   "source": [
    "ts_ab = np.concatenate((ts_a, ts_b))\n",
    "history = vae.fit(tr_ab, batch_size=batch_size, epochs=epochs, validation_data=(ts_ab,None), verbose=1)"
   ]
  },
  {
   "cell_type": "code",
   "execution_count": 24,
   "metadata": {},
   "outputs": [
    {
     "data": {
      "image/png": "[encoded data removed]",
      "text/plain": [
       "<Figure size 432x288 with 1 Axes>"
      ]
     },
     "metadata": {},
     "output_type": "display_data"
    }
   ],
   "source": [
    "plt.plot(history.history['loss'], label='training loss')\n",
    "plt.plot(history.history['val_loss'], label='validation loss')\n",
    "plt.xlabel('Epochs')\n",
    "plt.ylabel('VAE loss')\n",
    "plt.legend()\n",
    "plt.show()"
   ]
  },
  {
   "cell_type": "code",
   "execution_count": 25,
   "metadata": {},
   "outputs": [],
   "source": [
    "# Unfreeze classifier weights\n",
    "for layer in digit_classifier.layers:\n",
    "    layer.trainable = True"
   ]
  },
  {
   "cell_type": "markdown",
   "metadata": {},
   "source": [
    "## Training network on dataset C with generated data A and B"
   ]
  },
  {
   "cell_type": "markdown",
   "metadata": {},
   "source": [
    "Generate artificial samples of the same amount as in initial training set"
   ]
  },
  {
   "cell_type": "code",
   "execution_count": 26,
   "metadata": {},
   "outputs": [],
   "source": [
    "dreams_ab = np.empty(shape=[0, original_dim]) # array to store samples\n",
    "Y_gen = np.empty(shape=[0, nb_classes]) # target vectors\n",
    "for _ in range(nb_samples // batch_size): # generate dreams in batches\n",
    "    y_batch = np.random.randint(nb_classes, size=batch_size) # use random indices\n",
    "    y_batch = to_categorical(y_batch, nb_classes) # generate random target vectors\n",
    "    z_sample = np.random.randn(batch_size,latent_dim) # sampling latent vector\n",
    "    z_cond = np.concatenate((z_sample,y_batch), axis=1)\n",
    "    dream_batch = decoder.predict(z_cond) # generate corresponding dreams\n",
    "    y_batch = digit_classifier.predict(dream_batch) # generate soft targets\n",
    "    Y_gen = np.append(Y_gen, y_batch, axis=0)\n",
    "    dreams_ab = np.append(dreams_ab, dream_batch, axis=0) # add dreams to the collection"
   ]
  },
  {
   "cell_type": "code",
   "execution_count": 27,
   "metadata": {},
   "outputs": [],
   "source": [
    "# create dataset C\n",
    "order_c = np.random.permutation(original_dim)\n",
    "tr_c = x_train[:,order_c]\n",
    "ts_c = x_test[:,order_c]\n",
    "\n",
    "# add pseudodata to the training data\n",
    "tr_abc = np.concatenate((tr_c, dreams_ab), axis=0) \n",
    "Y_abc = np.concatenate((Y_train, Y_gen), axis=0)\n",
    "# permute training samples for proper validation set\n",
    "order_all = np.random.permutation(tr_abc.shape[0])\n",
    "tr_abc = tr_abc[order_all,:]\n",
    "Y_abc = Y_abc[order_all,:]"
   ]
  },
  {
   "cell_type": "code",
   "execution_count": 28,
   "metadata": {},
   "outputs": [
    {
     "name": "stderr",
     "output_type": "stream",
     "text": [
      "100% |########################################################################|\n"
     ]
    },
    {
     "data": {
      "image/png": "[encoded data removed]",
      "text/plain": [
       "<Figure size 432x288 with 1 Axes>"
      ]
     },
     "metadata": {},
     "output_type": "display_data"
    }
   ],
   "source": [
    "score_abc = np.zeros((epochs,4))\n",
    "pbar = ProgressBar(maxval=epochs).start()\n",
    "for epoch in range(epochs):\n",
    "    digit_classifier.fit(tr_abc, Y_abc, batch_size=batch_size, epochs=1, verbose=0)\n",
    "    score1 = digit_classifier.evaluate(ts_a, Y_test, verbose=0)\n",
    "    score2 = digit_classifier.evaluate(ts_b, Y_test, verbose=0)\n",
    "    score3 = digit_classifier.evaluate(ts_c, Y_test, verbose=0)\n",
    "    score_abc[epoch,:] = [epoch+epochs*2,score1[1],score2[1],score3[1]]\n",
    "    pbar.update(epoch+1)\n",
    "pbar.finish()\n",
    "\n",
    "# plot the accuracy of training\n",
    "plt.plot(np.concatenate((score_a[:,0],score_ab[:,0],score_abc[:,0]),axis=0),\n",
    "         np.concatenate((score_a[:,1],score_ab[:,1],score_abc[:,1]),axis=0),label='data A')\n",
    "plt.plot(np.hstack((score_ab[:,0],score_abc[:,0])),np.hstack((score_ab[:,2],score_abc[:,2])),label='data B')\n",
    "plt.plot(score_abc[:,0],score_abc[:,3],label='data C')\n",
    "plt.xlabel('Epoch')\n",
    "plt.ylabel('Classification accuracy')\n",
    "plt.legend()\n",
    "plt.show()"
   ]
  },
  {
   "cell_type": "code",
   "execution_count": 29,
   "metadata": {},
   "outputs": [],
   "source": [
    "# save traning history for further processing\n",
    "#np.savez('CVAE_distill_0',score_a=score_a,score_ab=score_ab,score_abc=score_abc)"
   ]
  },
  {
   "cell_type": "code",
   "execution_count": null,
   "metadata": {},
   "outputs": [],
   "source": []
  }
 ],
 "metadata": {
  "kernelspec": {
   "display_name": "Python 3",
   "language": "python",
   "name": "python3"
  },
  "language_info": {
   "codemirror_mode": {
    "name": "ipython",
    "version": 3
   },
   "file_extension": ".py",
   "mimetype": "text/x-python",
   "name": "python",
   "nbconvert_exporter": "python",
   "pygments_lexer": "ipython3",
   "version": "3.5.5"
  }
 },
 "nbformat": 4,
 "nbformat_minor": 2
}
