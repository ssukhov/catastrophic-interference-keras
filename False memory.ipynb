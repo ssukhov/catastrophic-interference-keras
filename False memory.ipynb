{
 "cells": [
  {
   "cell_type": "markdown",
   "metadata": {},
   "source": [
    "# Introducing a false memory into a neural network"
   ]
  },
  {
   "cell_type": "markdown",
   "metadata": {},
   "source": [
    " The network is trained on MNIST data. The goal is to make the network classify one digit as another digit."
   ]
  },
  {
   "cell_type": "code",
   "execution_count": 1,
   "metadata": {},
   "outputs": [],
   "source": [
    "import os\n",
    "# Disable GPU in a case of kernel freezing\n",
    "os.environ[\"CUDA_VISIBLE_DEVICES\"]=\"-1\""
   ]
  },
  {
   "cell_type": "code",
   "execution_count": 2,
   "metadata": {
    "colab": {},
    "colab_type": "code",
    "id": "qrfd6FzSLrE2"
   },
   "outputs": [
    {
     "name": "stderr",
     "output_type": "stream",
     "text": [
      "Using TensorFlow backend.\n"
     ]
    }
   ],
   "source": [
    "from keras.datasets import mnist\n",
    "from keras.models import Sequential\n",
    "from keras.layers import Dense\n",
    "from keras import utils\n",
    "from keras import regularizers\n",
    "from keras.optimizers import SGD\n",
    "import numpy as np\n",
    "import matplotlib.pyplot as plt\n",
    "%matplotlib inline \n",
    "from progressbar import ProgressBar, Bar, Percentage  # pip install progressbar33\n",
    "from keras import optimizers\n",
    "from keras.callbacks import EarlyStopping\n",
    "from keras import backend as K\n",
    "from scipy.special import expit\n",
    "import pickle\n",
    "import copy\n",
    "\n",
    "# needed for confusion matrix plot\n",
    "import pandas as pd\n",
    "import seaborn as sn\n",
    "from sklearn.metrics import confusion_matrix"
   ]
  },
  {
   "cell_type": "code",
   "execution_count": 3,
   "metadata": {
    "colab": {},
    "colab_type": "code",
    "id": "IqHMRuH_dk83"
   },
   "outputs": [],
   "source": [
    "# Training parameters\n",
    "\n",
    "num_epoch = 20\n",
    "num_neur = 400 # number of neurons in hidden layers\n",
    "num_class = 10\n",
    "img_line = 784\n",
    "vspl = 0.2 # validation split rate\n",
    "bsize = 32 # batch size"
   ]
  },
  {
   "cell_type": "code",
   "execution_count": 4,
   "metadata": {
    "colab": {},
    "colab_type": "code",
    "id": "E5L3LUIi8PDV"
   },
   "outputs": [],
   "source": [
    "(X_train, y_train), (X_test, y_test) = mnist.load_data()"
   ]
  },
  {
   "cell_type": "code",
   "execution_count": 5,
   "metadata": {
    "colab": {},
    "colab_type": "code",
    "id": "rZveVc0FdPX6"
   },
   "outputs": [],
   "source": [
    "# Prepare data\n",
    "X_train = X_train.reshape(60000, img_line)\n",
    "X_train = X_train.astype('float32')\n",
    "X_train /= 255\n",
    "X_test = X_test.reshape(10000, img_line)\n",
    "X_test = X_test.astype('float32')\n",
    "X_test /= 255\n",
    "\n",
    "Y_train = utils.to_categorical(y_train, num_class)\n",
    "Y_test = utils.to_categorical(y_test, num_class)\n",
    "\n",
    "# Construct a network for training on MNIST data\n",
    "model = Sequential()\n",
    "l2 = 1e-4 # L2 regularization\n",
    "model.add(Dense(num_neur, input_dim=img_line, activation=\"relu\",kernel_regularizer=regularizers.l2(l2)))\n",
    "model.add(Dense(num_neur, activation=\"relu\",kernel_regularizer=regularizers.l2(l2)))\n",
    "model.add(Dense(num_class, activation=\"softmax\",kernel_regularizer=regularizers.l2(l2)))\n",
    "\n",
    "model.compile(loss=\"categorical_crossentropy\", optimizer=SGD(lr=0.001), metrics=[\"accuracy\"])"
   ]
  },
  {
   "cell_type": "code",
   "execution_count": 6,
   "metadata": {},
   "outputs": [
    {
     "name": "stdout",
     "output_type": "stream",
     "text": [
      "[1, 5]\n"
     ]
    }
   ],
   "source": [
    "# Pick two digits for false memory experiment\n",
    "rand_digits = np.random.permutation(num_class)\n",
    "true_digit = rand_digits[0] # digit to foget\n",
    "false_digit = rand_digits[1] # false memory to embed\n",
    "print([true_digit,false_digit])"
   ]
  },
  {
   "cell_type": "code",
   "execution_count": 7,
   "metadata": {},
   "outputs": [],
   "source": [
    "# modify test labels\n",
    "Yf_test = copy.deepcopy(Y_test)\n",
    "ind = Y_test[:,true_digit]==1 # indices for initial digit\n",
    "Yf_test[ind,:] = utils.to_categorical(false_digit, num_class) # modify labels"
   ]
  },
  {
   "cell_type": "markdown",
   "metadata": {},
   "source": [
    "## Initial training of network"
   ]
  },
  {
   "cell_type": "code",
   "execution_count": 8,
   "metadata": {
    "colab": {
     "base_uri": "https://localhost:8080/",
     "height": 297
    },
    "colab_type": "code",
    "id": "ezoKvziJdUB4",
    "outputId": "4db84ede-5a94-4eb2-fa5f-212f25ad9165"
   },
   "outputs": [],
   "source": [
    "score_ini = np.zeros(num_epoch)\n",
    "history = model.fit(X_train, Y_train, batch_size=bsize, epochs=num_epoch, validation_data=(X_test,Y_test), verbose=0)\n",
    "model.save_weights('weights_ini.h5') # save weights for further use\n",
    "score_ini = history.history['val_acc']\n",
    "\n",
    "# The final score should be tested on a Test data!\n",
    "\n",
    "# plt.plot(score_ini[:,0],score_ini[:,1])\n",
    "# plt.xlabel('Эпоха обучения')\n",
    "# plt.ylabel('Аккуратность')\n",
    "# plt.show()"
   ]
  },
  {
   "cell_type": "code",
   "execution_count": 9,
   "metadata": {},
   "outputs": [
    {
     "data": {
      "image/png": "[encoded data removed]",
      "text/plain": [
       "<Figure size 252x252 with 1 Axes>"
      ]
     },
     "metadata": {},
     "output_type": "display_data"
    }
   ],
   "source": [
    "# plot initial confusion matrix\n",
    "pred = model.predict(X_test)\n",
    "y_pred = np.argmax(pred, axis=1)\n",
    "df_cm = pd.DataFrame(confusion_matrix(y_test, y_pred), range(10),range(10))\n",
    "plt.figure(figsize = (3.5,3.5))\n",
    "sn.set_context(\"paper\", rc={\"font.size\":10,\"axes.titlesize\":10,\"axes.labelsize\":10})\n",
    "ax = sn.heatmap(df_cm, vmin=0,vmax=1100,annot=True,cbar=False,fmt='2.0f',square=True,cmap='YlGnBu')\n",
    "ax.set_xlabel('Predicted label')    \n",
    "ax.set_ylabel('True label')\n",
    "plt.savefig('False_initial.pdf', format='pdf')\n",
    "plt.show()"
   ]
  },
  {
   "cell_type": "markdown",
   "metadata": {},
   "source": [
    "## False memory using initial dataset"
   ]
  },
  {
   "cell_type": "markdown",
   "metadata": {},
   "source": [
    "Here we introduce a false memory using the initial dataset for the retraining of the network"
   ]
  },
  {
   "cell_type": "code",
   "execution_count": 10,
   "metadata": {},
   "outputs": [],
   "source": [
    "# modify training labels\n",
    "Yf_train = copy.deepcopy(Y_train)\n",
    "ind = Y_train[:,true_digit]==1 # indices for initial digit\n",
    "Yf_train[ind,:] = utils.to_categorical(false_digit, num_class) # modify labels"
   ]
  },
  {
   "cell_type": "code",
   "execution_count": 11,
   "metadata": {},
   "outputs": [],
   "source": [
    "# retrain the network on modified data\n",
    "model.load_weights(\"weights_ini.h5\") # load initial weights\n",
    "# score_full = np.zeros(num_epoch) # accuracy for false memory retraining\n",
    "history = model.fit(X_train, Yf_train, batch_size=bsize, epochs=num_epoch, validation_data=(X_test,Yf_test), verbose=0)\n",
    "score_full = history.history['val_acc']"
   ]
  },
  {
   "cell_type": "code",
   "execution_count": 12,
   "metadata": {},
   "outputs": [
    {
     "name": "stderr",
     "output_type": "stream",
     "text": [
      "No handles with labels found to put in legend.\n"
     ]
    },
    {
     "data": {
      "image/png": "[encoded data removed]",
      "text/plain": [
       "<Figure size 432x288 with 1 Axes>"
      ]
     },
     "metadata": {
      "needs_background": "light"
     },
     "output_type": "display_data"
    }
   ],
   "source": [
    "# plot the accuracy of training\n",
    "plt.plot(range(2*num_epoch),np.hstack((score_ini,score_full)))\n",
    "plt.xlabel('Эпоха обучения')\n",
    "plt.ylabel('Аккуратность')\n",
    "plt.legend()\n",
    "plt.show()"
   ]
  },
  {
   "cell_type": "markdown",
   "metadata": {},
   "source": [
    "## False memory using several samples from initial dataset"
   ]
  },
  {
   "cell_type": "markdown",
   "metadata": {},
   "source": [
    "Soft targets are used for memory modification"
   ]
  },
  {
   "cell_type": "code",
   "execution_count": 10,
   "metadata": {},
   "outputs": [],
   "source": [
    "nb_retained = 5 # number of images per class to retain\n",
    "model.load_weights(\"weights_ini.h5\") # restore initial weights"
   ]
  },
  {
   "cell_type": "code",
   "execution_count": 11,
   "metadata": {},
   "outputs": [],
   "source": [
    "# Pick several random samples of each class\n",
    "x_part = np.empty([0,img_line])\n",
    "for c in range(num_class): # pick nb_retained samples of each class\n",
    "    ind = (Y_train[:,c]==1) # indices of samples of a particular class\n",
    "    x_tmp = X_train[ind,:]\n",
    "    ind = np.random.permutation(x_tmp.shape[0]) # permute samples of class c\n",
    "    x_tmp = x_tmp[ind,:]\n",
    "    x_tmp = x_tmp[:nb_retained,:] # leave only some sample\n",
    "    x_part = np.concatenate((x_part, x_tmp), axis=0) \n",
    "    \n",
    "y_part = model.predict(x_part) # find soft targets for the data\n",
    "# replace true labels with false ones\n",
    "y_part[true_digit*nb_retained:(true_digit+1)*nb_retained,true_digit],y_part[true_digit*nb_retained:(true_digit+1)*nb_retained,false_digit] = y_part[true_digit*nb_retained:(true_digit+1)*nb_retained,false_digit],y_part[true_digit*nb_retained:(true_digit+1)*nb_retained,true_digit].copy()\n",
    "nb_repeat = X_train.shape[0]//x_part.shape[0]\n",
    "x_part = np.tile(x_part,(nb_repeat,1))# increase the number of dataset samples \n",
    "y_part = np.tile(y_part,(nb_repeat,1))"
   ]
  },
  {
   "cell_type": "code",
   "execution_count": 12,
   "metadata": {},
   "outputs": [],
   "source": [
    "# retrain the network on modified data\n",
    "score_part = np.zeros(num_epoch) # accuracy for false memory retraining\n",
    "history = model.fit(x_part, y_part, batch_size=bsize, epochs=num_epoch, validation_data=(X_test,Yf_test), verbose=0)\n",
    "score_part = history.history['val_acc']"
   ]
  },
  {
   "cell_type": "code",
   "execution_count": 13,
   "metadata": {},
   "outputs": [
    {
     "ename": "NameError",
     "evalue": "name 'score_full' is not defined",
     "output_type": "error",
     "traceback": [
      "\u001b[1;31m---------------------------------------------------------------------------\u001b[0m",
      "\u001b[1;31mNameError\u001b[0m                                 Traceback (most recent call last)",
      "\u001b[1;32m<ipython-input-13-c57a1397ef77>\u001b[0m in \u001b[0;36m<module>\u001b[1;34m()\u001b[0m\n\u001b[0;32m      1\u001b[0m \u001b[1;31m# plot the accuracy of training\u001b[0m\u001b[1;33m\u001b[0m\u001b[1;33m\u001b[0m\u001b[0m\n\u001b[0;32m      2\u001b[0m \u001b[0mplt\u001b[0m\u001b[1;33m.\u001b[0m\u001b[0mplot\u001b[0m\u001b[1;33m(\u001b[0m\u001b[0mscore_part\u001b[0m\u001b[1;33m,\u001b[0m\u001b[0mlabel\u001b[0m\u001b[1;33m=\u001b[0m\u001b[1;34m'Partial data'\u001b[0m\u001b[1;33m)\u001b[0m\u001b[1;33m\u001b[0m\u001b[0m\n\u001b[1;32m----> 3\u001b[1;33m \u001b[0mplt\u001b[0m\u001b[1;33m.\u001b[0m\u001b[0mplot\u001b[0m\u001b[1;33m(\u001b[0m\u001b[0mscore_full\u001b[0m\u001b[1;33m,\u001b[0m\u001b[0mlabel\u001b[0m\u001b[1;33m=\u001b[0m\u001b[1;34m'Full data'\u001b[0m\u001b[1;33m)\u001b[0m\u001b[1;33m\u001b[0m\u001b[0m\n\u001b[0m\u001b[0;32m      4\u001b[0m \u001b[0mplt\u001b[0m\u001b[1;33m.\u001b[0m\u001b[0mxlabel\u001b[0m\u001b[1;33m(\u001b[0m\u001b[1;34m'Эпоха обучения'\u001b[0m\u001b[1;33m)\u001b[0m\u001b[1;33m\u001b[0m\u001b[0m\n\u001b[0;32m      5\u001b[0m \u001b[0mplt\u001b[0m\u001b[1;33m.\u001b[0m\u001b[0mylabel\u001b[0m\u001b[1;33m(\u001b[0m\u001b[1;34m'Аккуратность'\u001b[0m\u001b[1;33m)\u001b[0m\u001b[1;33m\u001b[0m\u001b[0m\n",
      "\u001b[1;31mNameError\u001b[0m: name 'score_full' is not defined"
     ]
    },
    {
     "data": {
      "image/png": "[encoded data removed]",
      "text/plain": [
       "<Figure size 432x288 with 1 Axes>"
      ]
     },
     "metadata": {},
     "output_type": "display_data"
    }
   ],
   "source": [
    "# plot the accuracy of training\n",
    "plt.plot(score_part,label='Partial data')\n",
    "plt.plot(score_full,label='Full data')\n",
    "plt.xlabel('Эпоха обучения')\n",
    "plt.ylabel('Аккуратность')\n",
    "plt.legend()\n",
    "plt.show()"
   ]
  },
  {
   "cell_type": "code",
   "execution_count": 14,
   "metadata": {},
   "outputs": [
    {
     "data": {
      "image/png": "[encoded data removed]",
      "text/plain": [
       "<Figure size 252x252 with 1 Axes>"
      ]
     },
     "metadata": {},
     "output_type": "display_data"
    }
   ],
   "source": [
    "# plot confusion matrix\n",
    "pred = model.predict(X_test)\n",
    "y_pred = np.argmax(pred, axis=1)\n",
    "df_cm = pd.DataFrame(confusion_matrix(y_test, y_pred), range(10),range(10))\n",
    "plt.figure(figsize = (3.5,3.5))\n",
    "sn.set_context(\"paper\", rc={\"font.size\":10,\"axes.titlesize\":10,\"axes.labelsize\":10})\n",
    "ax = sn.heatmap(df_cm, vmin=0,vmax=1100,annot=True,cbar=False,fmt='2.0f',square=True,cmap='YlGnBu')\n",
    "ax.set_xlabel('Predicted label')    \n",
    "ax.set_ylabel('True label')\n",
    "plt.savefig('False_5samp.pdf', format='pdf')\n",
    "plt.show()"
   ]
  },
  {
   "cell_type": "markdown",
   "metadata": {},
   "source": [
    "## False memory using synthetic samples"
   ]
  },
  {
   "cell_type": "markdown",
   "metadata": {},
   "source": [
    "In this section, synthetic samples are generated with a combination of activation maximization and Brownian dynamics"
   ]
  },
  {
   "cell_type": "code",
   "execution_count": 9,
   "metadata": {},
   "outputs": [],
   "source": [
    "# hyperparameters for samples generation\n",
    "min_delta = 0.00003 # early stop criterion\n",
    "restarts = 50 # amount of attempts to find local minima for each class\n",
    "nb_samples = 100 # number of samples to collect near each local minimum\n",
    "demix = 10 # number of samples to skip to prevent mixing\n",
    "lr_AM = 0.01 # learning rate for activation maximization\n",
    "lr_BM = 0.1 # learning rate for Brownian motion\n",
    "ll2 = 0.01 # prior weights distribution\n",
    "predictor_corrector = True # whether to use predictor-corrector for Brownian motion"
   ]
  },
  {
   "cell_type": "code",
   "execution_count": 10,
   "metadata": {},
   "outputs": [],
   "source": [
    "model.load_weights(\"weights_ini.h5\") # restore initial weights"
   ]
  },
  {
   "cell_type": "markdown",
   "metadata": {},
   "source": [
    "Construct network for posterior sampling"
   ]
  },
  {
   "cell_type": "code",
   "execution_count": 11,
   "metadata": {},
   "outputs": [],
   "source": [
    "# Freeze all the layers in the trained network\n",
    "for layer in model.layers:\n",
    "    layer.trainable = False\n",
    "    \n",
    "x_in = np.array([[1]]) # the only input for the new network\n",
    "\n",
    "# Construct neural net for samples generation \n",
    "model_dream = Sequential()\n",
    "model_dream.add(Dense(784,input_dim=1,kernel_initializer=\"uniform\",\n",
    "                      kernel_regularizer=regularizers.l2(ll2),activation='sigmoid',use_bias=False))\n",
    "model_dream.add(model)\n",
    "sgd = optimizers.SGD(lr=lr_AM)\n",
    "model_dream.compile(loss='categorical_crossentropy',optimizer=sgd,metrics=[\"accuracy\"])"
   ]
  },
  {
   "cell_type": "markdown",
   "metadata": {},
   "source": [
    "Create array of dreams starting from random noise"
   ]
  },
  {
   "cell_type": "code",
   "execution_count": 12,
   "metadata": {
    "scrolled": true
   },
   "outputs": [
    {
     "name": "stderr",
     "output_type": "stream",
     "text": [
      "Creating dreams for node #0: 100%|############################################|\n",
      "Creating dreams for node #1: 100%|############################################|\n",
      "Creating dreams for node #2: 100%|############################################|\n",
      "Creating dreams for node #3: 100%|############################################|\n",
      "Creating dreams for node #4: 100%|############################################|\n",
      "Creating dreams for node #5: 100%|############################################|\n",
      "Creating dreams for node #6: 100%|############################################|\n",
      "Creating dreams for node #7: 100%|############################################|\n",
      "Creating dreams for node #8: 100%|############################################|\n",
      "Creating dreams for node #9: 100%|############################################|\n"
     ]
    }
   ],
   "source": [
    "# start collecting samples\n",
    "dreams = np.empty(shape=[0, img_line]) # array to store samples\n",
    "early_stopping = EarlyStopping(monitor='loss', min_delta=min_delta)\n",
    "for node in range(num_class): # generate dreams for every output node\n",
    "#    print('Creating dreams for node #%d' % (node))\n",
    "    y_out = np.zeros((1,num_class))\n",
    "    y_out[0][node] = 1 # create output target\n",
    "    pbar = ProgressBar(widgets=['Creating dreams for node #'+str(node)+': ',Percentage(),Bar()], maxval=restarts).start()\n",
    "    for attempt in range(restarts):\n",
    "        weights = np.array([[2*np.random.randn(img_line)]]) # random initial weights\n",
    "        model_dream.layers[0].set_weights(weights) # initialize dream with random distribution \n",
    "        K.set_value(model_dream.optimizer.lr, lr_AM)\n",
    "        # find local minimum starting from random starting point\n",
    "        model_dream.fit(x_in,y_out,batch_size=1,epochs=8000,verbose=0,shuffle=False,callbacks=[early_stopping])\n",
    "        collected_samples = 0\n",
    "        dreams1 = np.zeros((nb_samples,img_line)) # samples of particular attempt\n",
    "        old_weights = model_dream.layers[0].get_weights()[0]\n",
    "        while collected_samples<nb_samples: \n",
    "            K.set_value(model_dream.optimizer.lr, lr_BM) # set learning rate for Brownian motion\n",
    "            for _ in range(demix): # perform demix random steps\n",
    "                weights0 = model_dream.layers[0].get_weights()[0]\n",
    "                model_dream.fit(x_in,y_out,batch_size=1,epochs=1,verbose=0,shuffle=False)\n",
    "                weights = model_dream.layers[0].get_weights()[0] # get input weights\n",
    "                xi = np.sqrt(2*lr_BM)*np.random.normal(0,1,weights.shape) # Gaussian noise\n",
    "                weights += xi # one step of random walk\n",
    "                if predictor_corrector:\n",
    "                    model_dream.layers[0].set_weights([weights])\n",
    "                    model_dream.fit(x_in,y_out,batch_size=1,epochs=1,verbose=0,shuffle=False)\n",
    "                    weights = model_dream.layers[0].get_weights()[0]\n",
    "                    weights = (weights0+weights+xi)/2\n",
    "                model_dream.layers[0].set_weights([weights])\n",
    "            new_weights = model_dream.layers[0].get_weights()[0] # get input weights\n",
    "            dream = expit(new_weights) # produced sample input\n",
    "            y1 = model.predict(dream)\n",
    "            if np.argmax(y1)==node: # if sample generate correct output activity\n",
    "                dreams1[collected_samples,:] = dream # keep sample if good activity\n",
    "                collected_samples += 1\n",
    "                old_weights = new_weights\n",
    "            else: # case of wrong activity\n",
    "                model_dream.layers[0].set_weights([old_weights]) # revert weights to previous value\n",
    "        pbar.update(attempt+1)\n",
    "        dreams = np.append(dreams, dreams1, axis=0) # collect samples for each restart\n",
    "    pbar.finish()\n",
    "dreamY = model.predict(dreams)"
   ]
  },
  {
   "cell_type": "markdown",
   "metadata": {},
   "source": [
    "Use dreams for retraining neural network"
   ]
  },
  {
   "cell_type": "code",
   "execution_count": 15,
   "metadata": {},
   "outputs": [],
   "source": [
    "# Unfreeze all the layers before training\n",
    "for layer in model.layers:\n",
    "    layer.trainable = True\n",
    "    \n",
    "# create false dreams\n",
    "false_dreamY = copy.deepcopy(dreamY)\n",
    "ind = np.argmax(dreamY,axis=1)==true_digit # indices for initial digit\n",
    "false_dreamY[ind,true_digit],false_dreamY[ind,false_digit] = false_dreamY[ind,false_digit],false_dreamY[ind,true_digit].copy() # swap labels"
   ]
  },
  {
   "cell_type": "code",
   "execution_count": 16,
   "metadata": {},
   "outputs": [],
   "source": [
    "score_gen = np.zeros(num_epoch)\n",
    "history = model.fit(dreams, false_dreamY, batch_size=bsize, epochs=num_epoch, validation_data=(X_test,Yf_test), verbose=0)\n",
    "score_gen = history.history['val_acc']"
   ]
  },
  {
   "cell_type": "code",
   "execution_count": 17,
   "metadata": {},
   "outputs": [
    {
     "name": "stderr",
     "output_type": "stream",
     "text": [
      "No handles with labels found to put in legend.\n"
     ]
    },
    {
     "data": {
      "image/png": "[encoded data removed]",
      "text/plain": [
       "<Figure size 432x288 with 1 Axes>"
      ]
     },
     "metadata": {},
     "output_type": "display_data"
    }
   ],
   "source": [
    "# plot the accuracy of training\n",
    "plt.plot(score_gen)\n",
    "plt.xlabel('Эпоха обучения')\n",
    "plt.ylabel('Аккуратность')\n",
    "plt.legend()\n",
    "plt.show()"
   ]
  },
  {
   "cell_type": "markdown",
   "metadata": {},
   "source": [
    "## False memory using several initial samples and generative process"
   ]
  },
  {
   "cell_type": "code",
   "execution_count": 15,
   "metadata": {},
   "outputs": [],
   "source": [
    "# hyperparameters for samples generation\n",
    "nb_retain = 5 # number of samples per class from previous datasets to retain\n",
    "nb_samples = 1000 # number of samples to collect near each local minimum\n",
    "demix = 10 # number of consequtive samples to skip to prevent mixing\n",
    "llr = 0.1 # learning rate for Largevin sampling\n",
    "ll2 = 0.01 # prior weights distribution\n",
    "eps = np.finfo(float).eps # machine epsilon"
   ]
  },
  {
   "cell_type": "code",
   "execution_count": 16,
   "metadata": {},
   "outputs": [],
   "source": [
    "model.load_weights(\"weights_ini.h5\") # restore initial weights"
   ]
  },
  {
   "cell_type": "markdown",
   "metadata": {},
   "source": [
    "Construct network for posterior sampling"
   ]
  },
  {
   "cell_type": "code",
   "execution_count": 17,
   "metadata": {},
   "outputs": [],
   "source": [
    "# Freeze all the layers in the trained network\n",
    "for layer in model.layers:\n",
    "    layer.trainable = False\n",
    "    \n",
    "x_in = np.array([[1]]) # the only input for the new network\n",
    "\n",
    "# Construct neural net for samples generation \n",
    "model_dream = Sequential()\n",
    "model_dream.add(Dense(784,input_dim=1,kernel_initializer=\"uniform\",\n",
    "                      kernel_regularizer=regularizers.l2(ll2),activation='sigmoid',use_bias=False))\n",
    "model_dream.add(model)\n",
    "sgd = optimizers.SGD(lr=llr)\n",
    "model_dream.compile(loss='categorical_crossentropy',optimizer=sgd,metrics=[\"accuracy\"])"
   ]
  },
  {
   "cell_type": "markdown",
   "metadata": {},
   "source": [
    "Pick several random samples from initial dataset"
   ]
  },
  {
   "cell_type": "code",
   "execution_count": 18,
   "metadata": {},
   "outputs": [],
   "source": [
    "anchors_x = np.empty(shape=[0, img_line]) # reference points for sample collection\n",
    "anchors_y = np.empty(shape=[0, num_class])\n",
    "\n",
    "# choose correctly classified samples (otherwise Brownian dynamics does not work)\n",
    "y_out = model.predict(X_train)\n",
    "ind = (np.argmax(y_out, axis=1)==np.argmax(Y_train, axis=1))\n",
    "x_corr = X_train[ind,:]\n",
    "y_corr = Y_train[ind,:]\n",
    "\n",
    "for node in range(num_class): # pick random anchors for every output node\n",
    "    ind = (y_corr[:,node]==1) # indices of samples of a particular class\n",
    "    x_tmp = x_corr[ind,:]\n",
    "    y_tmp = y_corr[ind,:]\n",
    "    ind = np.random.permutation(x_tmp.shape[0]) # permute samples of the class\n",
    "    x_tmp = x_tmp[ind,:]\n",
    "    x_tmp = x_tmp[:nb_retain,:] # pick anchors\n",
    "    y_tmp = y_tmp[:nb_retain,:]\n",
    "    anchors_x = np.vstack((anchors_x, x_tmp)) # collect all the anchors \n",
    "    anchors_y = np.vstack((anchors_y, y_tmp))    "
   ]
  },
  {
   "cell_type": "markdown",
   "metadata": {},
   "source": [
    "Start collecting samples"
   ]
  },
  {
   "cell_type": "code",
   "execution_count": 19,
   "metadata": {},
   "outputs": [
    {
     "name": "stderr",
     "output_type": "stream",
     "text": [
      "Creating dreams: 100%|########################################################|\n"
     ]
    }
   ],
   "source": [
    "dreams = np.empty(shape=[0, img_line]) # array to store samples\n",
    "pbar = ProgressBar(widgets=['Creating dreams: ',Percentage(),Bar()], maxval=anchors_x.shape[0]).start()\n",
    "for ind in range(anchors_x.shape[0]): # generate dreams for anchor\n",
    "    dream = anchors_x[ind:ind+1,:]\n",
    "    y_out = anchors_y[ind:ind+1,:]\n",
    "    weights = np.log((dream+eps)/(1-dream+eps)) # convert pattern into weights\n",
    "    model_dream.layers[0].set_weights([weights]) # set a point of local minimum \n",
    "    collected_samples = 0\n",
    "    nb_steps = 0 # number of steps after last collected sample\n",
    "    dreams1 = np.zeros((nb_samples,img_line)) # samples around particular anchor\n",
    "    while collected_samples<nb_samples: \n",
    "        model_dream.fit(x_in,y_out,batch_size=1,epochs=1,verbose=0,shuffle=False) # one step of gradient descend\n",
    "        weights = model_dream.layers[0].get_weights()[0] # input weights after gradient descend\n",
    "        while True: # try random steps until suitable is found\n",
    "            xi = np.sqrt(2*llr)*np.random.normal(0,1,weights.shape) # Gaussian noise\n",
    "            new_weights = weights+xi # gradient descend + Gaussian noise\n",
    "            dream = expit(new_weights) # produced sample input\n",
    "            y1 = model.predict(dream)\n",
    "            if np.argmax(y1)==np.argmax(y_out): # if sample generate correct output activity\n",
    "                if nb_steps==demix:\n",
    "                    dreams1[collected_samples,:] = dream # keep sample if good activity\n",
    "                    nb_steps = 0\n",
    "                    collected_samples += 1\n",
    "                nb_steps += 1\n",
    "                model_dream.layers[0].set_weights([new_weights])\n",
    "                break\n",
    "    dreams = np.append(dreams, dreams1, axis=0) # collect samples for each restart\n",
    "    pbar.update(ind+1)\n",
    "pbar.finish()\n",
    "dreamY = model.predict(dreams)"
   ]
  },
  {
   "cell_type": "markdown",
   "metadata": {},
   "source": [
    "Use generated dreams for retraining neural network"
   ]
  },
  {
   "cell_type": "code",
   "execution_count": 20,
   "metadata": {},
   "outputs": [],
   "source": [
    "# Unfreeze all the layers before training\n",
    "for layer in model.layers:\n",
    "    layer.trainable = True\n",
    "    \n",
    "# create false dreams\n",
    "false_dreamY = copy.deepcopy(dreamY)\n",
    "ind = np.argmax(dreamY,axis=1)==true_digit # indices for initial digit\n",
    "false_dreamY[ind,true_digit],false_dreamY[ind,false_digit] = false_dreamY[ind,false_digit],false_dreamY[ind,true_digit].copy() # swap labels"
   ]
  },
  {
   "cell_type": "code",
   "execution_count": 21,
   "metadata": {},
   "outputs": [],
   "source": [
    "# retrain network with modified labels\n",
    "# score_gen2 = np.zeros(num_epoch)\n",
    "history = model.fit(dreams, false_dreamY, batch_size=bsize, epochs=num_epoch, validation_data=(X_test,Yf_test), verbose=0)\n",
    "score_gen2 = history.history['val_acc']"
   ]
  },
  {
   "cell_type": "code",
   "execution_count": 22,
   "metadata": {},
   "outputs": [
    {
     "ename": "NameError",
     "evalue": "name 'score_full' is not defined",
     "output_type": "error",
     "traceback": [
      "\u001b[1;31m---------------------------------------------------------------------------\u001b[0m",
      "\u001b[1;31mNameError\u001b[0m                                 Traceback (most recent call last)",
      "\u001b[1;32m<ipython-input-22-b33c89b0233e>\u001b[0m in \u001b[0;36m<module>\u001b[1;34m()\u001b[0m\n\u001b[0;32m      1\u001b[0m \u001b[1;31m# plot the accuracy of training\u001b[0m\u001b[1;33m\u001b[0m\u001b[1;33m\u001b[0m\u001b[0m\n\u001b[0;32m      2\u001b[0m \u001b[0mplt\u001b[0m\u001b[1;33m.\u001b[0m\u001b[0mplot\u001b[0m\u001b[1;33m(\u001b[0m\u001b[0mscore_part\u001b[0m\u001b[1;33m,\u001b[0m\u001b[0mlabel\u001b[0m\u001b[1;33m=\u001b[0m\u001b[1;34m'Partial data'\u001b[0m\u001b[1;33m)\u001b[0m\u001b[1;33m\u001b[0m\u001b[0m\n\u001b[1;32m----> 3\u001b[1;33m \u001b[0mplt\u001b[0m\u001b[1;33m.\u001b[0m\u001b[0mplot\u001b[0m\u001b[1;33m(\u001b[0m\u001b[0mscore_full\u001b[0m\u001b[1;33m,\u001b[0m\u001b[0mlabel\u001b[0m\u001b[1;33m=\u001b[0m\u001b[1;34m'Full data'\u001b[0m\u001b[1;33m)\u001b[0m\u001b[1;33m\u001b[0m\u001b[0m\n\u001b[0m\u001b[0;32m      4\u001b[0m \u001b[0mplt\u001b[0m\u001b[1;33m.\u001b[0m\u001b[0mplot\u001b[0m\u001b[1;33m(\u001b[0m\u001b[0mscore_gen2\u001b[0m\u001b[1;33m,\u001b[0m\u001b[0mlabel\u001b[0m\u001b[1;33m=\u001b[0m\u001b[1;34m'Generated data based on episodes'\u001b[0m\u001b[1;33m)\u001b[0m\u001b[1;33m\u001b[0m\u001b[0m\n\u001b[0;32m      5\u001b[0m \u001b[0mplt\u001b[0m\u001b[1;33m.\u001b[0m\u001b[0mxlabel\u001b[0m\u001b[1;33m(\u001b[0m\u001b[1;34m'Epochs'\u001b[0m\u001b[1;33m)\u001b[0m\u001b[1;33m\u001b[0m\u001b[0m\n",
      "\u001b[1;31mNameError\u001b[0m: name 'score_full' is not defined"
     ]
    },
    {
     "data": {
      "image/png": "[encoded data removed]",
      "text/plain": [
       "<Figure size 432x288 with 1 Axes>"
      ]
     },
     "metadata": {},
     "output_type": "display_data"
    }
   ],
   "source": [
    "# plot the accuracy of training\n",
    "plt.plot(score_part,label='Partial data')\n",
    "plt.plot(score_full,label='Full data')\n",
    "plt.plot(score_gen2,label='Generated data based on episodes')\n",
    "plt.xlabel('Epochs')\n",
    "plt.ylabel('Accuracy')\n",
    "plt.legend()\n",
    "plt.show()"
   ]
  },
  {
   "cell_type": "code",
   "execution_count": 23,
   "metadata": {},
   "outputs": [
    {
     "data": {
      "image/png": "[encoded data removed]",
      "text/plain": [
       "<Figure size 252x252 with 1 Axes>"
      ]
     },
     "metadata": {},
     "output_type": "display_data"
    }
   ],
   "source": [
    "# plot confusion matrix\n",
    "pred = model.predict(X_test)\n",
    "y_pred = np.argmax(pred, axis=1)\n",
    "df_cm = pd.DataFrame(confusion_matrix(y_test, y_pred), range(10),range(10))\n",
    "plt.figure(figsize = (3.5,3.5))\n",
    "sn.set_context(\"paper\", rc={\"font.size\":10,\"axes.titlesize\":10,\"axes.labelsize\":10})\n",
    "ax = sn.heatmap(df_cm, vmin=0,vmax=1100,annot=True,cbar=False,fmt='2.0f',square=True,cmap='YlGnBu')\n",
    "ax.set_xlabel('Predicted label')    \n",
    "ax.set_ylabel('True label')\n",
    "plt.savefig('False_5gen.pdf', format='pdf')\n",
    "plt.show()"
   ]
  },
  {
   "cell_type": "code",
   "execution_count": null,
   "metadata": {},
   "outputs": [],
   "source": [
    "#np.savez('False_memory_0',score_full=score_full,score_part=score_part,score_gen2=score_gen2)"
   ]
  },
  {
   "cell_type": "code",
   "execution_count": null,
   "metadata": {},
   "outputs": [],
   "source": []
  }
 ],
 "metadata": {
  "accelerator": "GPU",
  "colab": {
   "collapsed_sections": [],
   "name": "ABC_Mnist_13.ipynb",
   "provenance": [],
   "version": "0.3.2"
  },
  "kernelspec": {
   "display_name": "Python 3",
   "language": "python",
   "name": "python3"
  },
  "language_info": {
   "codemirror_mode": {
    "name": "ipython",
    "version": 3
   },
   "file_extension": ".py",
   "mimetype": "text/x-python",
   "name": "python",
   "nbconvert_exporter": "python",
   "pygments_lexer": "ipython3",
   "version": "3.5.5"
  }
 },
 "nbformat": 4,
 "nbformat_minor": 1
}
