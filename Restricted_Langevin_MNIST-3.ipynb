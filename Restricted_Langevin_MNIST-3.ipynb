{
 "cells": [
  {
   "cell_type": "markdown",
   "metadata": {},
   "source": [
    "# Avoiding catastrophic interference with Langevin dynamics in the vicinity of local minima"
   ]
  },
  {
   "cell_type": "markdown",
   "metadata": {},
   "source": [
    "The posterior probability function is sampled with Langevin dynamics around local minima of several samples (anchors) retained from previous datasets. Predictor-corrector algorithm is **not** used for Brownian dynamics.\n",
    "\n",
    "The method is tested on permutted MNIST data. "
   ]
  },
  {
   "cell_type": "code",
   "execution_count": 1,
   "metadata": {},
   "outputs": [],
   "source": [
    "import os\n",
    "# Disable GPU in a case of kernel freezing\n",
    "#os.environ[\"CUDA_VISIBLE_DEVICES\"]=\"-1\""
   ]
  },
  {
   "cell_type": "code",
   "execution_count": 2,
   "metadata": {
    "colab": {},
    "colab_type": "code",
    "id": "qrfd6FzSLrE2"
   },
   "outputs": [
    {
     "name": "stderr",
     "output_type": "stream",
     "text": [
      "Using TensorFlow backend.\n"
     ]
    }
   ],
   "source": [
    "from keras.datasets import mnist\n",
    "from keras.models import Sequential\n",
    "from keras.layers import Dense\n",
    "from keras import utils\n",
    "from keras import regularizers\n",
    "from keras.optimizers import SGD\n",
    "import numpy as np\n",
    "import matplotlib.pyplot as plt\n",
    "\n",
    "%matplotlib inline \n",
    "\n",
    "from progressbar import ProgressBar, Bar, Percentage  # pip install progressbar33\n",
    "from keras import optimizers\n",
    "from keras.callbacks import EarlyStopping\n",
    "from scipy.special import expit"
   ]
  },
  {
   "cell_type": "code",
   "execution_count": 3,
   "metadata": {
    "colab": {},
    "colab_type": "code",
    "id": "IqHMRuH_dk83"
   },
   "outputs": [],
   "source": [
    "# Training parameters\n",
    "\n",
    "num_epoch = 20 # number of epochs to train\n",
    "num_neur = 400 # number of neurons in hidden layers\n",
    "num_class = 10\n",
    "img_line = 784 # input dimension\n",
    "bsize = 32 # batch size\n",
    "predictor_corrector = True # whether to use predictor-corrector for Brownian motion\n",
    "\n",
    "# hyperparameters for samples generation\n",
    "nb_retain = 5 # number of samples per class from previous datasets to retain\n",
    "nb_samples = 1000 # number of samples to collect near each local minimum\n",
    "demix = 10 # number of consequtive samples to skip to prevent mixing\n",
    "llr = 0.1 # learning rate for Largevin sampling\n",
    "ll2 = 0.01 # prior weights distribution\n",
    "eps = np.finfo(float).eps # machine epsilon"
   ]
  },
  {
   "cell_type": "markdown",
   "metadata": {},
   "source": [
    "Load and preprocess MNIST dataset"
   ]
  },
  {
   "cell_type": "code",
   "execution_count": 4,
   "metadata": {
    "colab": {},
    "colab_type": "code",
    "id": "E5L3LUIi8PDV"
   },
   "outputs": [],
   "source": [
    "(X_train, y_train), (X_test, y_test) = mnist.load_data()"
   ]
  },
  {
   "cell_type": "code",
   "execution_count": 5,
   "metadata": {
    "colab": {},
    "colab_type": "code",
    "id": "rZveVc0FdPX6"
   },
   "outputs": [],
   "source": [
    "# Prepare data\n",
    "X_train = X_train.reshape(60000, img_line)\n",
    "X_train = X_train.astype('float32')\n",
    "X_train /= 255\n",
    "X_test = X_test.reshape(10000, img_line)\n",
    "X_test = X_test.astype('float32')\n",
    "X_test /= 255\n",
    "\n",
    "Y_train = utils.to_categorical(y_train, 10)\n",
    "Y_test = utils.to_categorical(y_test, 10)\n",
    "\n",
    "# Construct a network for training on MNIST data\n",
    "model = Sequential()\n",
    "l2 = 1e-4 # L2 regularization\n",
    "model.add(Dense(num_neur, input_dim=img_line, activation=\"relu\",kernel_regularizer=regularizers.l2(l2)))\n",
    "model.add(Dense(num_neur, activation=\"relu\",kernel_regularizer=regularizers.l2(l2)))\n",
    "model.add(Dense(num_class, activation=\"softmax\",kernel_regularizer=regularizers.l2(l2)))\n",
    "\n",
    "model.compile(loss=\"categorical_crossentropy\", optimizer=SGD(lr=0.001), metrics=[\"accuracy\"])"
   ]
  },
  {
   "cell_type": "markdown",
   "metadata": {},
   "source": [
    "## Training network  on data A"
   ]
  },
  {
   "cell_type": "code",
   "execution_count": 6,
   "metadata": {
    "colab": {
     "base_uri": "https://localhost:8080/",
     "height": 297
    },
    "colab_type": "code",
    "id": "ezoKvziJdUB4",
    "outputId": "4db84ede-5a94-4eb2-fa5f-212f25ad9165"
   },
   "outputs": [],
   "source": [
    "order_a = np.random.permutation(img_line)\n",
    "tr_a = X_train[:,order_a] # training set A\n",
    "ts_a = X_test[:,order_a] # test set A\n",
    "\n",
    "score_a = np.zeros((num_epoch,2))\n",
    "history = model.fit(tr_a, Y_train, batch_size=bsize, epochs=num_epoch, validation_data=(ts_a,Y_test), verbose=0)\n",
    "score_a[:,0] = range(num_epoch)\n",
    "score_a[:,1] = history.history['val_acc']\n",
    "\n",
    "# plt.plot(score_a[:,0],score_a[:,1])\n",
    "# plt.xlabel('Эпоха обучения')\n",
    "# plt.ylabel('Аккуратность')\n",
    "# plt.show()"
   ]
  },
  {
   "cell_type": "code",
   "execution_count": 7,
   "metadata": {},
   "outputs": [
    {
     "data": {
      "image/png": "[encoded data removed]",
      "text/plain": [
       "<Figure size 432x288 with 1 Axes>"
      ]
     },
     "metadata": {},
     "output_type": "display_data"
    }
   ],
   "source": [
    "# plot the histogram of output activations\n",
    "pred = model.predict(ts_a)\n",
    "pred_max = np.amax(pred, axis=1) # take maximum value of every output vector\n",
    "plt.hist(pred_max, bins='auto')  \n",
    "plt.title(\"Distribution of maximum activity nodes\")\n",
    "plt.show()"
   ]
  },
  {
   "cell_type": "markdown",
   "metadata": {},
   "source": [
    "## Generate samples corresponding to data A"
   ]
  },
  {
   "cell_type": "markdown",
   "metadata": {},
   "source": [
    "Construct network for posterior sampling"
   ]
  },
  {
   "cell_type": "code",
   "execution_count": 8,
   "metadata": {},
   "outputs": [],
   "source": [
    "# Freeze all the layers in the trained network\n",
    "for layer in model.layers:\n",
    "    layer.trainable = False\n",
    "    \n",
    "x_in = np.array([[1]]) # the only input for the new network\n",
    "\n",
    "# Construct neural net for samples generation \n",
    "model_dream = Sequential()\n",
    "model_dream.add(Dense(784,input_dim=1,kernel_initializer=\"uniform\",\n",
    "                      kernel_regularizer=regularizers.l2(ll2),activation='sigmoid',use_bias=False))\n",
    "model_dream.add(model)\n",
    "sgd = optimizers.SGD(lr=llr)\n",
    "model_dream.compile(loss='categorical_crossentropy',optimizer=sgd,metrics=[\"accuracy\"])"
   ]
  },
  {
   "cell_type": "markdown",
   "metadata": {},
   "source": [
    "Pick random anchors from dataset A"
   ]
  },
  {
   "cell_type": "code",
   "execution_count": 9,
   "metadata": {},
   "outputs": [],
   "source": [
    "anchors_xa = np.empty(shape=[0, img_line]) # reference points for sample collection\n",
    "anchors_ya = np.empty(shape=[0, num_class])\n",
    "\n",
    "# choose correctly classified samples (otherwise Brownian dynamics does not work)\n",
    "y_out = model.predict(tr_a)\n",
    "ind = (np.argmax(y_out, axis=1)==np.argmax(Y_train, axis=1))\n",
    "x_corr = tr_a[ind,:]\n",
    "y_corr = Y_train[ind,:]\n",
    "\n",
    "for node in range(num_class): # pick random anchors for every output node\n",
    "    ind = (y_corr[:,node]==1) # indices of samples of a particular class\n",
    "    x_tmp = x_corr[ind,:]\n",
    "    y_tmp = y_corr[ind,:]\n",
    "    ind = np.random.permutation(x_tmp.shape[0]) # permute samples of the class\n",
    "    x_tmp = x_tmp[ind,:]\n",
    "    x_tmp = x_tmp[:nb_retain,:] # pick anchors\n",
    "    y_tmp = y_tmp[:nb_retain,:]\n",
    "    anchors_xa = np.vstack((anchors_xa, x_tmp)) # collect all the anchors \n",
    "    anchors_ya = np.vstack((anchors_ya, y_tmp))    "
   ]
  },
  {
   "cell_type": "markdown",
   "metadata": {},
   "source": [
    "start collecting samples"
   ]
  },
  {
   "cell_type": "code",
   "execution_count": 10,
   "metadata": {
    "scrolled": true
   },
   "outputs": [
    {
     "name": "stderr",
     "output_type": "stream",
     "text": [
      "Creating dreams: 100%|########################################################|\n"
     ]
    }
   ],
   "source": [
    "dreams_a = np.empty(shape=[0, img_line]) # array to store samples\n",
    "pbar = ProgressBar(widgets=['Creating dreams: ',Percentage(),Bar()], maxval=anchors_xa.shape[0]).start()\n",
    "for ind in range(anchors_xa.shape[0]): # generate dreams for anchor\n",
    "    dream = anchors_xa[ind:ind+1,:]\n",
    "    y_out = anchors_ya[ind:ind+1,:]\n",
    "    weights = np.log((dream+eps)/(1-dream+eps)) # convert pattern into weights\n",
    "    model_dream.layers[0].set_weights([weights]) # set a point of local minimum \n",
    "    collected_samples = 0\n",
    "    nb_steps = 0 # number of steps after last collected sample\n",
    "    dreams1 = np.zeros((nb_samples,img_line)) # samples around particular anchor\n",
    "    while collected_samples<nb_samples: \n",
    "        model_dream.fit(x_in,y_out,batch_size=1,epochs=1,verbose=0,shuffle=False) # one step of gradient descend\n",
    "        weights = model_dream.layers[0].get_weights()[0] # input weights after gradient descend\n",
    "        while True: # try random steps until suitable one\n",
    "            xi = np.sqrt(2*llr)*np.random.normal(0,1,weights.shape) # Gaussian noise\n",
    "            new_weights = weights+xi # gradient descend + Gaussian noise\n",
    "            dream = expit(new_weights) # produced sample input\n",
    "            y1 = model.predict(dream)\n",
    "            if np.argmax(y1)==np.argmax(y_out): # if sample generate correct output activity\n",
    "                if nb_steps==demix:\n",
    "                    dreams1[collected_samples,:] = dream # keep sample if good activity\n",
    "                    nb_steps = 0\n",
    "                    collected_samples += 1\n",
    "                nb_steps += 1\n",
    "                model_dream.layers[0].set_weights([new_weights])\n",
    "                break\n",
    "    dreams_a = np.append(dreams_a, dreams1, axis=0) # collect samples for each restart\n",
    "    pbar.update(ind+1)\n",
    "pbar.finish()"
   ]
  },
  {
   "cell_type": "code",
   "execution_count": 11,
   "metadata": {},
   "outputs": [
    {
     "data": {
      "image/png": "[encoded data removed]",
      "text/plain": [
       "<Figure size 432x288 with 1 Axes>"
      ]
     },
     "metadata": {},
     "output_type": "display_data"
    }
   ],
   "source": [
    "dreamY_a = model.predict(dreams_a)\n",
    "# plot the histogram of output values\n",
    "dreamY_max = np.amax(dreamY_a, axis=1) # take maximum value of every output vector\n",
    "plt.hist(dreamY_max, bins='auto')  \n",
    "plt.title(\"Distribution of maximum activity nodes\")\n",
    "plt.show()"
   ]
  },
  {
   "cell_type": "markdown",
   "metadata": {},
   "source": [
    "## Training network on data B"
   ]
  },
  {
   "cell_type": "markdown",
   "metadata": {},
   "source": [
    "Use data B together with dreams for training"
   ]
  },
  {
   "cell_type": "code",
   "execution_count": 12,
   "metadata": {
    "colab": {
     "base_uri": "https://localhost:8080/",
     "height": 314
    },
    "colab_type": "code",
    "id": "pBrgbxds7cSa",
    "outputId": "b06d9ac3-83b5-41ce-c271-ee7fce0d5a00"
   },
   "outputs": [
    {
     "name": "stderr",
     "output_type": "stream",
     "text": [
      "100% |########################################################################|\n"
     ]
    },
    {
     "data": {
      "image/png": "[encoded data removed]",
      "text/plain": [
       "<Figure size 432x288 with 1 Axes>"
      ]
     },
     "metadata": {},
     "output_type": "display_data"
    }
   ],
   "source": [
    "# Unfreeze all the layers before training\n",
    "for layer in model.layers:\n",
    "    layer.trainable = True\n",
    "    \n",
    "# construct B data\n",
    "order_b = np.random.permutation(img_line)\n",
    "tr_b = X_train[:,order_b]\n",
    "ts_b = X_test[:,order_b]\n",
    "\n",
    "tr_ab = np.concatenate((tr_b, dreams_a), axis=0) # add pseudodata to the training data\n",
    "Y_ab = np.concatenate((Y_train, dreamY_a), axis=0) # add pseudotargets to the targets\n",
    "    \n",
    "# permute training samples for proper training\n",
    "order_all = np.random.permutation(tr_ab.shape[0])\n",
    "tr_ab = tr_ab[order_all,:]\n",
    "Y_ab = Y_ab[order_all,:]\n",
    "\n",
    "score_ab = np.zeros((num_epoch,3))\n",
    "pbar = ProgressBar(maxval=num_epoch).start()\n",
    "for epoch in range(num_epoch):\n",
    "    model.fit(tr_ab, Y_ab, batch_size=bsize, epochs=1, verbose=0)\n",
    "    score1 = model.evaluate(ts_a, Y_test, verbose=0)\n",
    "    score2 = model.evaluate(ts_b, Y_test, verbose=0)\n",
    "    score_ab[epoch,:] = [epoch+num_epoch,score1[1],score2[1]]\n",
    "    pbar.update(epoch+1)\n",
    "pbar.finish()\n",
    "# model.save_weights('RL_weights_ab.h5') # save weights for further use\n",
    "\n",
    "# plot the accuracy of training\n",
    "plt.plot(np.hstack((score_a[:,0],score_ab[:,0])),np.hstack((score_a[:,1],score_ab[:,1])),label='data A')\n",
    "plt.plot(score_ab[:,0],score_ab[:,2],label='data B')\n",
    "plt.xlabel('Epocs')\n",
    "plt.ylabel('Accuracy')\n",
    "plt.legend()\n",
    "plt.show()"
   ]
  },
  {
   "cell_type": "markdown",
   "metadata": {},
   "source": [
    "## Generate samples corresponding to datasets A and B"
   ]
  },
  {
   "cell_type": "code",
   "execution_count": 13,
   "metadata": {},
   "outputs": [],
   "source": [
    "# Freeze all the layers in the trained network\n",
    "for layer in model.layers:\n",
    "    layer.trainable = False\n",
    "    \n",
    "x_in = np.array([[1]]) # the only input for the new network\n",
    "#early_stopping = EarlyStopping(monitor='loss', min_delta=min_delta)\n",
    "\n",
    "# Construct neural net for samples generation \n",
    "model_dream = Sequential()\n",
    "model_dream.add(Dense(784,input_dim=1,kernel_initializer=\"uniform\",\n",
    "                      kernel_regularizer=regularizers.l2(ll2),activation='sigmoid',use_bias=False))\n",
    "model_dream.add(model)\n",
    "sgd = optimizers.SGD(lr=llr)\n",
    "model_dream.compile(loss='categorical_crossentropy',optimizer=sgd,metrics=[\"accuracy\"])"
   ]
  },
  {
   "cell_type": "markdown",
   "metadata": {},
   "source": [
    "Pick random anchers from dataset B"
   ]
  },
  {
   "cell_type": "code",
   "execution_count": 14,
   "metadata": {},
   "outputs": [],
   "source": [
    "anchors_xb = np.empty(shape=[0, img_line]) # reference points for sample collection\n",
    "anchors_yb = np.empty(shape=[0, num_class])\n",
    "\n",
    "# choose correctly classified samples (otherwise Brownian dynamics does not work)\n",
    "y_out = model.predict(tr_b)\n",
    "ind = (np.argmax(y_out, axis=1)==np.argmax(Y_train, axis=1))\n",
    "x_corr = tr_b[ind,:]\n",
    "y_corr = Y_train[ind,:]\n",
    "\n",
    "for node in range(num_class): # pick random anchors for every output node\n",
    "    ind = (y_corr[:,node]==1) # indices of samples of a particular class\n",
    "    x_tmp = x_corr[ind,:]\n",
    "    y_tmp = y_corr[ind,:]\n",
    "    ind = np.random.permutation(x_tmp.shape[0]) # permute samples of the class\n",
    "    x_tmp = x_tmp[ind,:]\n",
    "    x_tmp = x_tmp[:nb_retain,:] # pick anchors\n",
    "    y_tmp = y_tmp[:nb_retain,:]\n",
    "    anchors_xb = np.vstack((anchors_xb, x_tmp)) # collect all the anchors \n",
    "    anchors_yb = np.vstack((anchors_yb, y_tmp)) "
   ]
  },
  {
   "cell_type": "markdown",
   "metadata": {},
   "source": [
    "Join anchors of datasets A and B"
   ]
  },
  {
   "cell_type": "code",
   "execution_count": 15,
   "metadata": {},
   "outputs": [],
   "source": [
    "anchors_xab = np.vstack((anchors_xa, anchors_xb)) \n",
    "anchors_yab = np.vstack((anchors_ya, anchors_yb)) "
   ]
  },
  {
   "cell_type": "markdown",
   "metadata": {},
   "source": [
    "Start collecting samples around anchors for datasets A and B"
   ]
  },
  {
   "cell_type": "code",
   "execution_count": 16,
   "metadata": {},
   "outputs": [
    {
     "name": "stderr",
     "output_type": "stream",
     "text": [
      "Creating dreams: 100%|########################################################|\n"
     ]
    }
   ],
   "source": [
    "dreams_ab = np.empty(shape=[0, img_line]) # array to store samples\n",
    "pbar = ProgressBar(widgets=['Creating dreams: ',Percentage(),Bar()], maxval=anchors_xab.shape[0]).start()\n",
    "for ind in range(anchors_xab.shape[0]): # generate dreams for anchor\n",
    "    dream = anchors_xab[ind:ind+1,:]\n",
    "    y_out = anchors_yab[ind:ind+1,:]\n",
    "    weights = np.log((dream+eps)/(1-dream+eps)) # convert pattern into weights\n",
    "    model_dream.layers[0].set_weights([weights]) # set a point of local minimum \n",
    "    collected_samples = 0\n",
    "    nb_steps = 0 # number of steps after last collected sample\n",
    "    dreams1 = np.zeros((nb_samples,img_line)) # samples around particular anchor\n",
    "    while collected_samples<nb_samples: \n",
    "        model_dream.fit(x_in,y_out,batch_size=1,epochs=1,verbose=0,shuffle=False) # one step of gradient descend\n",
    "        weights = model_dream.layers[0].get_weights()[0] # input weights after gradient descend\n",
    "        while True: # try random steps until suitable one\n",
    "            xi = np.sqrt(2*llr)*np.random.normal(0,1,weights.shape) # Gaussian noise\n",
    "            new_weights = weights+xi # gradient descend + Gaussian noise\n",
    "            dream = expit(new_weights) # produced sample input\n",
    "            y1 = model.predict(dream)\n",
    "            if np.argmax(y1)==np.argmax(y_out): # if sample generate correct output activity\n",
    "                if nb_steps==demix:\n",
    "                    dreams1[collected_samples,:] = dream # keep sample if good activity\n",
    "                    nb_steps = 0\n",
    "                    collected_samples += 1\n",
    "                nb_steps += 1\n",
    "                model_dream.layers[0].set_weights([new_weights])\n",
    "                break\n",
    "    dreams_ab = np.append(dreams_ab, dreams1, axis=0) # collect samples for each restart\n",
    "    pbar.update(ind+1)\n",
    "pbar.finish()"
   ]
  },
  {
   "cell_type": "code",
   "execution_count": 17,
   "metadata": {},
   "outputs": [
    {
     "data": {
      "image/png": "[encoded data removed]",
      "text/plain": [
       "<Figure size 432x288 with 1 Axes>"
      ]
     },
     "metadata": {},
     "output_type": "display_data"
    }
   ],
   "source": [
    "dreamsY_ab = model.predict(dreams_ab)\n",
    "# plot the histogram of output values\n",
    "dreamY_max = np.amax(dreamsY_ab, axis=1) # take maximum value of every output vector\n",
    "plt.hist(dreamY_max, bins='auto')  \n",
    "plt.title(\"Distribution of maximum activity nodes\")\n",
    "plt.show()"
   ]
  },
  {
   "cell_type": "markdown",
   "metadata": {},
   "source": [
    "## Training network on data C"
   ]
  },
  {
   "cell_type": "code",
   "execution_count": 18,
   "metadata": {
    "colab": {
     "base_uri": "https://localhost:8080/",
     "height": 331
    },
    "colab_type": "code",
    "id": "9ZF-RkFY7vDS",
    "outputId": "cd8585f5-ee9e-4d80-8c42-74647e5372e1"
   },
   "outputs": [
    {
     "name": "stderr",
     "output_type": "stream",
     "text": [
      "100% |########################################################################|\n"
     ]
    },
    {
     "data": {
      "image/png": "[encoded data removed]",
      "text/plain": [
       "<Figure size 432x288 with 1 Axes>"
      ]
     },
     "metadata": {},
     "output_type": "display_data"
    }
   ],
   "source": [
    "# Unfreeze all the layers before training\n",
    "for layer in model.layers:\n",
    "    layer.trainable = True\n",
    "\n",
    "# create dataset C\n",
    "order_c = np.random.permutation(img_line)\n",
    "tr_c = X_train[:,order_c]\n",
    "ts_c = X_test[:,order_c]\n",
    "\n",
    "# add pseudodata to the training data\n",
    "tr_abc = np.concatenate((tr_c, dreams_ab), axis=0) \n",
    "Y_abc = np.concatenate((Y_train, dreamsY_ab), axis=0)\n",
    "# permute training samples for proper training\n",
    "order_all = np.random.permutation(tr_abc.shape[0])\n",
    "tr_abc = tr_abc[order_all,:]\n",
    "Y_abc = Y_abc[order_all,:]\n",
    "\n",
    "score_abc = np.zeros((num_epoch,4))\n",
    "pbar = ProgressBar(maxval=num_epoch).start()\n",
    "for epoch in range(num_epoch):\n",
    "    model.fit(tr_abc, Y_abc, batch_size=bsize, epochs=1, verbose=0)\n",
    "    score1 = model.evaluate(ts_a, Y_test, verbose=0)\n",
    "    score2 = model.evaluate(ts_b, Y_test, verbose=0)\n",
    "    score3 = model.evaluate(ts_c, Y_test, verbose=0)\n",
    "    score_abc[epoch,:] = [epoch+num_epoch*2,score1[1],score2[1],score3[1]]\n",
    "    pbar.update(epoch+1)\n",
    "pbar.finish()\n",
    "\n",
    "#plot training history\n",
    "plt.plot(np.concatenate((score_a[:,0],score_ab[:,0],score_abc[:,0]),axis=0),\n",
    "         np.concatenate((score_a[:,1],score_ab[:,1],score_abc[:,1]),axis=0),label='data A')\n",
    "plt.plot(np.hstack((score_ab[:,0],score_abc[:,0])),np.hstack((score_ab[:,2],score_abc[:,2])),label='data B')\n",
    "plt.plot(score_abc[:,0],score_abc[:,3],label='data C')\n",
    "plt.xlabel('Epochs')\n",
    "plt.ylabel('Accuracy')\n",
    "plt.legend()\n",
    "plt.show()"
   ]
  },
  {
   "cell_type": "code",
   "execution_count": 19,
   "metadata": {},
   "outputs": [],
   "source": [
    "# Save training history if necessary\n",
    "#np.savez('Restricted_Langevin_anchors9',score_a=score_a,score_ab=score_ab,score_abc=score_abc)"
   ]
  },
  {
   "cell_type": "code",
   "execution_count": null,
   "metadata": {},
   "outputs": [],
   "source": []
  }
 ],
 "metadata": {
  "accelerator": "GPU",
  "colab": {
   "collapsed_sections": [],
   "name": "ABC_Mnist_13.ipynb",
   "provenance": [],
   "version": "0.3.2"
  },
  "kernelspec": {
   "display_name": "Python 3",
   "language": "python",
   "name": "python3"
  },
  "language_info": {
   "codemirror_mode": {
    "name": "ipython",
    "version": 3
   },
   "file_extension": ".py",
   "mimetype": "text/x-python",
   "name": "python",
   "nbconvert_exporter": "python",
   "pygments_lexer": "ipython3",
   "version": "3.5.5"
  }
 },
 "nbformat": 4,
 "nbformat_minor": 1
}
